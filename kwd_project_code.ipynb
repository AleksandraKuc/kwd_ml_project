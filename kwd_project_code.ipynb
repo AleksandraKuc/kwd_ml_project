{
 "cells": [
  {
   "cell_type": "markdown",
   "metadata": {},
   "source": [
    "## Przygotowanie środowiska"
   ]
  },
  {
   "cell_type": "code",
   "execution_count": 1,
   "metadata": {},
   "outputs": [],
   "source": [
    "import numpy as np\n",
    "import pandas as pd\n",
    "import matplotlib.pyplot as plt\n",
    "import category_encoders as ce\n",
    "import sklearn as skl"
   ]
  },
  {
   "cell_type": "code",
   "execution_count": 2,
   "metadata": {},
   "outputs": [
    {
     "data": {
      "text/plain": [
       "'1.17.2'"
      ]
     },
     "execution_count": 2,
     "metadata": {},
     "output_type": "execute_result"
    }
   ],
   "source": [
    "np.__version__"
   ]
  },
  {
   "cell_type": "markdown",
   "metadata": {},
   "source": [
    "## Załadowanie danych z pliku"
   ]
  },
  {
   "cell_type": "code",
   "execution_count": 3,
   "metadata": {},
   "outputs": [
    {
     "data": {
      "text/html": [
       "<div>\n",
       "<style scoped>\n",
       "    .dataframe tbody tr th:only-of-type {\n",
       "        vertical-align: middle;\n",
       "    }\n",
       "\n",
       "    .dataframe tbody tr th {\n",
       "        vertical-align: top;\n",
       "    }\n",
       "\n",
       "    .dataframe thead th {\n",
       "        text-align: right;\n",
       "    }\n",
       "</style>\n",
       "<table border=\"1\" class=\"dataframe\">\n",
       "  <thead>\n",
       "    <tr style=\"text-align: right;\">\n",
       "      <th></th>\n",
       "      <th>id</th>\n",
       "      <th>duration</th>\n",
       "      <th>codec</th>\n",
       "      <th>width</th>\n",
       "      <th>height</th>\n",
       "      <th>bitrate</th>\n",
       "      <th>framerate</th>\n",
       "      <th>i</th>\n",
       "      <th>p</th>\n",
       "      <th>b</th>\n",
       "      <th>...</th>\n",
       "      <th>p_size</th>\n",
       "      <th>b_size</th>\n",
       "      <th>size</th>\n",
       "      <th>o_codec</th>\n",
       "      <th>o_bitrate</th>\n",
       "      <th>o_framerate</th>\n",
       "      <th>o_width</th>\n",
       "      <th>o_height</th>\n",
       "      <th>umem</th>\n",
       "      <th>utime</th>\n",
       "    </tr>\n",
       "  </thead>\n",
       "  <tbody>\n",
       "    <tr>\n",
       "      <td>0</td>\n",
       "      <td>04t6-jw9czg</td>\n",
       "      <td>130.35667</td>\n",
       "      <td>mpeg4</td>\n",
       "      <td>176</td>\n",
       "      <td>144</td>\n",
       "      <td>54590</td>\n",
       "      <td>12.0</td>\n",
       "      <td>27</td>\n",
       "      <td>1537</td>\n",
       "      <td>0</td>\n",
       "      <td>...</td>\n",
       "      <td>825054</td>\n",
       "      <td>0</td>\n",
       "      <td>889537</td>\n",
       "      <td>mpeg4</td>\n",
       "      <td>56000</td>\n",
       "      <td>12.0</td>\n",
       "      <td>176</td>\n",
       "      <td>144</td>\n",
       "      <td>22508</td>\n",
       "      <td>0.612</td>\n",
       "    </tr>\n",
       "    <tr>\n",
       "      <td>1</td>\n",
       "      <td>04t6-jw9czg</td>\n",
       "      <td>130.35667</td>\n",
       "      <td>mpeg4</td>\n",
       "      <td>176</td>\n",
       "      <td>144</td>\n",
       "      <td>54590</td>\n",
       "      <td>12.0</td>\n",
       "      <td>27</td>\n",
       "      <td>1537</td>\n",
       "      <td>0</td>\n",
       "      <td>...</td>\n",
       "      <td>825054</td>\n",
       "      <td>0</td>\n",
       "      <td>889537</td>\n",
       "      <td>mpeg4</td>\n",
       "      <td>56000</td>\n",
       "      <td>12.0</td>\n",
       "      <td>320</td>\n",
       "      <td>240</td>\n",
       "      <td>25164</td>\n",
       "      <td>0.980</td>\n",
       "    </tr>\n",
       "  </tbody>\n",
       "</table>\n",
       "<p>2 rows × 22 columns</p>\n",
       "</div>"
      ],
      "text/plain": [
       "            id   duration  codec  width  height  bitrate  framerate   i     p  \\\n",
       "0  04t6-jw9czg  130.35667  mpeg4    176     144    54590       12.0  27  1537   \n",
       "1  04t6-jw9czg  130.35667  mpeg4    176     144    54590       12.0  27  1537   \n",
       "\n",
       "   b  ...  p_size  b_size    size  o_codec  o_bitrate o_framerate  o_width  \\\n",
       "0  0  ...  825054       0  889537    mpeg4      56000        12.0      176   \n",
       "1  0  ...  825054       0  889537    mpeg4      56000        12.0      320   \n",
       "\n",
       "   o_height   umem  utime  \n",
       "0       144  22508  0.612  \n",
       "1       240  25164  0.980  \n",
       "\n",
       "[2 rows x 22 columns]"
      ]
     },
     "execution_count": 3,
     "metadata": {},
     "output_type": "execute_result"
    }
   ],
   "source": [
    "data = pd.read_csv('./online_video_dataset/transcoding_mesurment.tsv', delimiter='\\t')\n",
    "data.head(2)"
   ]
  },
  {
   "cell_type": "markdown",
   "metadata": {},
   "source": [
    "## Wstępna analiza danych"
   ]
  },
  {
   "cell_type": "code",
   "execution_count": 4,
   "metadata": {},
   "outputs": [
    {
     "name": "stdout",
     "output_type": "stream",
     "text": [
      "(68784, 22)\n",
      "Index(['id', 'duration', 'codec', 'width', 'height', 'bitrate', 'framerate',\n",
      "       'i', 'p', 'b', 'frames', 'i_size', 'p_size', 'b_size', 'size',\n",
      "       'o_codec', 'o_bitrate', 'o_framerate', 'o_width', 'o_height', 'umem',\n",
      "       'utime'],\n",
      "      dtype='object')\n"
     ]
    }
   ],
   "source": [
    "print(data.shape)\n",
    "print(data.columns)"
   ]
  },
  {
   "cell_type": "markdown",
   "metadata": {},
   "source": [
    "Opis danych:\n",
    "- id = Youtube videp id\n",
    "- duration = duration of video\n",
    "- bitrate bitrate(video) = video bitrate\n",
    "- height = height of video in pixles\n",
    "- width = width of video in pixles\n",
    "- frame rate = actual video frame rate\n",
    "- frame rate(est.) = estimated video frame rate\n",
    "- codec = coding standard used for the video\n",
    "- category = YouTube video category\n",
    "- url = direct link to video (has expiration date)\n",
    "- i = number of i frames in the video (complete image)\n",
    "- p = number of p frames in the video (predicted picture)\n",
    "- b = number of b frames in the video (bidirectional predicted picture)\n",
    "- frames = number of frames in video\n",
    "- i_size = total size in byte of i videos\n",
    "- p_size = total size in byte of p videos\n",
    "- b_size = total size in byte of b videos\n",
    "- size = total size of video\n",
    "- o_codec = output codec used for transcoding\n",
    "- o_bitrate = output bitrate used for transcoding\n",
    "- o_framerate = output framerate used for transcoding\n",
    "- o_width = output width in pixel used for transcoding\n",
    "- o_height = output height used in pixel for transcoding\n",
    "- umem = total codec allocated memory for transcoding\n",
    "- utime = total transcoding time for transcoding"
   ]
  },
  {
   "cell_type": "markdown",
   "metadata": {},
   "source": [
    "## Analiza eksploracyjna"
   ]
  },
  {
   "cell_type": "code",
   "execution_count": 5,
   "metadata": {},
   "outputs": [
    {
     "name": "stdout",
     "output_type": "stream",
     "text": [
      "<class 'pandas.core.frame.DataFrame'>\n",
      "RangeIndex: 68784 entries, 0 to 68783\n",
      "Data columns (total 22 columns):\n",
      "id             68784 non-null object\n",
      "duration       68784 non-null float64\n",
      "codec          68784 non-null object\n",
      "width          68784 non-null int64\n",
      "height         68784 non-null int64\n",
      "bitrate        68784 non-null int64\n",
      "framerate      68784 non-null float64\n",
      "i              68784 non-null int64\n",
      "p              68784 non-null int64\n",
      "b              68784 non-null int64\n",
      "frames         68784 non-null int64\n",
      "i_size         68784 non-null int64\n",
      "p_size         68784 non-null int64\n",
      "b_size         68784 non-null int64\n",
      "size           68784 non-null int64\n",
      "o_codec        68784 non-null object\n",
      "o_bitrate      68784 non-null int64\n",
      "o_framerate    68784 non-null float64\n",
      "o_width        68784 non-null int64\n",
      "o_height       68784 non-null int64\n",
      "umem           68784 non-null int64\n",
      "utime          68784 non-null float64\n",
      "dtypes: float64(4), int64(15), object(3)\n",
      "memory usage: 11.5+ MB\n"
     ]
    }
   ],
   "source": [
    "# typy danych w kolumnach\n",
    "data.info()"
   ]
  },
  {
   "cell_type": "code",
   "execution_count": 6,
   "metadata": {},
   "outputs": [
    {
     "data": {
      "text/html": [
       "<div>\n",
       "<style scoped>\n",
       "    .dataframe tbody tr th:only-of-type {\n",
       "        vertical-align: middle;\n",
       "    }\n",
       "\n",
       "    .dataframe tbody tr th {\n",
       "        vertical-align: top;\n",
       "    }\n",
       "\n",
       "    .dataframe thead th {\n",
       "        text-align: right;\n",
       "    }\n",
       "</style>\n",
       "<table border=\"1\" class=\"dataframe\">\n",
       "  <thead>\n",
       "    <tr style=\"text-align: right;\">\n",
       "      <th></th>\n",
       "      <th>duration</th>\n",
       "      <th>width</th>\n",
       "      <th>height</th>\n",
       "      <th>bitrate</th>\n",
       "      <th>framerate</th>\n",
       "      <th>i</th>\n",
       "      <th>p</th>\n",
       "      <th>b</th>\n",
       "      <th>frames</th>\n",
       "      <th>i_size</th>\n",
       "      <th>p_size</th>\n",
       "      <th>b_size</th>\n",
       "      <th>size</th>\n",
       "      <th>o_bitrate</th>\n",
       "      <th>o_framerate</th>\n",
       "      <th>o_width</th>\n",
       "      <th>o_height</th>\n",
       "      <th>umem</th>\n",
       "      <th>utime</th>\n",
       "    </tr>\n",
       "  </thead>\n",
       "  <tbody>\n",
       "    <tr>\n",
       "      <td>count</td>\n",
       "      <td>68784.000000</td>\n",
       "      <td>68784.000000</td>\n",
       "      <td>68784.000000</td>\n",
       "      <td>6.878400e+04</td>\n",
       "      <td>68784.000000</td>\n",
       "      <td>68784.000000</td>\n",
       "      <td>68784.000000</td>\n",
       "      <td>68784.000000</td>\n",
       "      <td>68784.000000</td>\n",
       "      <td>6.878400e+04</td>\n",
       "      <td>6.878400e+04</td>\n",
       "      <td>68784.0</td>\n",
       "      <td>6.878400e+04</td>\n",
       "      <td>6.878400e+04</td>\n",
       "      <td>68784.000000</td>\n",
       "      <td>68784.000000</td>\n",
       "      <td>68784.000000</td>\n",
       "      <td>68784.000000</td>\n",
       "      <td>68784.000000</td>\n",
       "    </tr>\n",
       "    <tr>\n",
       "      <td>mean</td>\n",
       "      <td>286.413921</td>\n",
       "      <td>624.934171</td>\n",
       "      <td>412.572226</td>\n",
       "      <td>6.937015e+05</td>\n",
       "      <td>23.241321</td>\n",
       "      <td>100.868312</td>\n",
       "      <td>6531.692210</td>\n",
       "      <td>9.147854</td>\n",
       "      <td>6641.708377</td>\n",
       "      <td>2.838987e+06</td>\n",
       "      <td>2.218057e+07</td>\n",
       "      <td>0.0</td>\n",
       "      <td>2.502294e+07</td>\n",
       "      <td>1.395036e+06</td>\n",
       "      <td>21.190862</td>\n",
       "      <td>802.336357</td>\n",
       "      <td>503.825541</td>\n",
       "      <td>228224.717900</td>\n",
       "      <td>9.996355</td>\n",
       "    </tr>\n",
       "    <tr>\n",
       "      <td>std</td>\n",
       "      <td>287.257650</td>\n",
       "      <td>463.169069</td>\n",
       "      <td>240.615472</td>\n",
       "      <td>1.095628e+06</td>\n",
       "      <td>7.224848</td>\n",
       "      <td>84.764791</td>\n",
       "      <td>6075.871744</td>\n",
       "      <td>92.516177</td>\n",
       "      <td>6153.342453</td>\n",
       "      <td>4.325137e+06</td>\n",
       "      <td>5.097306e+07</td>\n",
       "      <td>0.0</td>\n",
       "      <td>5.414402e+07</td>\n",
       "      <td>1.749352e+06</td>\n",
       "      <td>6.668703</td>\n",
       "      <td>609.959797</td>\n",
       "      <td>315.970438</td>\n",
       "      <td>97430.878373</td>\n",
       "      <td>16.107429</td>\n",
       "    </tr>\n",
       "    <tr>\n",
       "      <td>min</td>\n",
       "      <td>31.080000</td>\n",
       "      <td>176.000000</td>\n",
       "      <td>144.000000</td>\n",
       "      <td>8.384000e+03</td>\n",
       "      <td>5.705752</td>\n",
       "      <td>7.000000</td>\n",
       "      <td>175.000000</td>\n",
       "      <td>0.000000</td>\n",
       "      <td>192.000000</td>\n",
       "      <td>1.164800e+04</td>\n",
       "      <td>3.384500e+04</td>\n",
       "      <td>0.0</td>\n",
       "      <td>1.918790e+05</td>\n",
       "      <td>5.600000e+04</td>\n",
       "      <td>12.000000</td>\n",
       "      <td>176.000000</td>\n",
       "      <td>144.000000</td>\n",
       "      <td>22508.000000</td>\n",
       "      <td>0.184000</td>\n",
       "    </tr>\n",
       "    <tr>\n",
       "      <td>25%</td>\n",
       "      <td>106.765000</td>\n",
       "      <td>320.000000</td>\n",
       "      <td>240.000000</td>\n",
       "      <td>1.343340e+05</td>\n",
       "      <td>15.000000</td>\n",
       "      <td>39.000000</td>\n",
       "      <td>2374.000000</td>\n",
       "      <td>0.000000</td>\n",
       "      <td>2417.000000</td>\n",
       "      <td>3.933950e+05</td>\n",
       "      <td>1.851539e+06</td>\n",
       "      <td>0.0</td>\n",
       "      <td>2.258222e+06</td>\n",
       "      <td>1.090000e+05</td>\n",
       "      <td>15.000000</td>\n",
       "      <td>320.000000</td>\n",
       "      <td>240.000000</td>\n",
       "      <td>216820.000000</td>\n",
       "      <td>2.096000</td>\n",
       "    </tr>\n",
       "    <tr>\n",
       "      <td>50%</td>\n",
       "      <td>239.141660</td>\n",
       "      <td>480.000000</td>\n",
       "      <td>360.000000</td>\n",
       "      <td>2.911500e+05</td>\n",
       "      <td>25.021740</td>\n",
       "      <td>80.000000</td>\n",
       "      <td>5515.000000</td>\n",
       "      <td>0.000000</td>\n",
       "      <td>5628.000000</td>\n",
       "      <td>9.458650e+05</td>\n",
       "      <td>6.166260e+06</td>\n",
       "      <td>0.0</td>\n",
       "      <td>7.881069e+06</td>\n",
       "      <td>5.390000e+05</td>\n",
       "      <td>24.000000</td>\n",
       "      <td>480.000000</td>\n",
       "      <td>360.000000</td>\n",
       "      <td>219480.000000</td>\n",
       "      <td>4.408000</td>\n",
       "    </tr>\n",
       "    <tr>\n",
       "      <td>75%</td>\n",
       "      <td>379.320000</td>\n",
       "      <td>640.000000</td>\n",
       "      <td>480.000000</td>\n",
       "      <td>6.529670e+05</td>\n",
       "      <td>29.000000</td>\n",
       "      <td>138.000000</td>\n",
       "      <td>9155.000000</td>\n",
       "      <td>0.000000</td>\n",
       "      <td>9232.000000</td>\n",
       "      <td>3.392479e+06</td>\n",
       "      <td>1.515506e+07</td>\n",
       "      <td>0.0</td>\n",
       "      <td>1.977335e+07</td>\n",
       "      <td>3.000000e+06</td>\n",
       "      <td>25.000000</td>\n",
       "      <td>1280.000000</td>\n",
       "      <td>720.000000</td>\n",
       "      <td>219656.000000</td>\n",
       "      <td>10.433000</td>\n",
       "    </tr>\n",
       "    <tr>\n",
       "      <td>max</td>\n",
       "      <td>25844.086000</td>\n",
       "      <td>1920.000000</td>\n",
       "      <td>1080.000000</td>\n",
       "      <td>7.628466e+06</td>\n",
       "      <td>48.000000</td>\n",
       "      <td>5170.000000</td>\n",
       "      <td>304959.000000</td>\n",
       "      <td>9407.000000</td>\n",
       "      <td>310129.000000</td>\n",
       "      <td>9.082855e+07</td>\n",
       "      <td>7.689970e+08</td>\n",
       "      <td>0.0</td>\n",
       "      <td>8.067111e+08</td>\n",
       "      <td>5.000000e+06</td>\n",
       "      <td>29.970000</td>\n",
       "      <td>1920.000000</td>\n",
       "      <td>1080.000000</td>\n",
       "      <td>711824.000000</td>\n",
       "      <td>224.574000</td>\n",
       "    </tr>\n",
       "  </tbody>\n",
       "</table>\n",
       "</div>"
      ],
      "text/plain": [
       "           duration         width        height       bitrate     framerate  \\\n",
       "count  68784.000000  68784.000000  68784.000000  6.878400e+04  68784.000000   \n",
       "mean     286.413921    624.934171    412.572226  6.937015e+05     23.241321   \n",
       "std      287.257650    463.169069    240.615472  1.095628e+06      7.224848   \n",
       "min       31.080000    176.000000    144.000000  8.384000e+03      5.705752   \n",
       "25%      106.765000    320.000000    240.000000  1.343340e+05     15.000000   \n",
       "50%      239.141660    480.000000    360.000000  2.911500e+05     25.021740   \n",
       "75%      379.320000    640.000000    480.000000  6.529670e+05     29.000000   \n",
       "max    25844.086000   1920.000000   1080.000000  7.628466e+06     48.000000   \n",
       "\n",
       "                  i              p             b         frames        i_size  \\\n",
       "count  68784.000000   68784.000000  68784.000000   68784.000000  6.878400e+04   \n",
       "mean     100.868312    6531.692210      9.147854    6641.708377  2.838987e+06   \n",
       "std       84.764791    6075.871744     92.516177    6153.342453  4.325137e+06   \n",
       "min        7.000000     175.000000      0.000000     192.000000  1.164800e+04   \n",
       "25%       39.000000    2374.000000      0.000000    2417.000000  3.933950e+05   \n",
       "50%       80.000000    5515.000000      0.000000    5628.000000  9.458650e+05   \n",
       "75%      138.000000    9155.000000      0.000000    9232.000000  3.392479e+06   \n",
       "max     5170.000000  304959.000000   9407.000000  310129.000000  9.082855e+07   \n",
       "\n",
       "             p_size   b_size          size     o_bitrate   o_framerate  \\\n",
       "count  6.878400e+04  68784.0  6.878400e+04  6.878400e+04  68784.000000   \n",
       "mean   2.218057e+07      0.0  2.502294e+07  1.395036e+06     21.190862   \n",
       "std    5.097306e+07      0.0  5.414402e+07  1.749352e+06      6.668703   \n",
       "min    3.384500e+04      0.0  1.918790e+05  5.600000e+04     12.000000   \n",
       "25%    1.851539e+06      0.0  2.258222e+06  1.090000e+05     15.000000   \n",
       "50%    6.166260e+06      0.0  7.881069e+06  5.390000e+05     24.000000   \n",
       "75%    1.515506e+07      0.0  1.977335e+07  3.000000e+06     25.000000   \n",
       "max    7.689970e+08      0.0  8.067111e+08  5.000000e+06     29.970000   \n",
       "\n",
       "            o_width      o_height           umem         utime  \n",
       "count  68784.000000  68784.000000   68784.000000  68784.000000  \n",
       "mean     802.336357    503.825541  228224.717900      9.996355  \n",
       "std      609.959797    315.970438   97430.878373     16.107429  \n",
       "min      176.000000    144.000000   22508.000000      0.184000  \n",
       "25%      320.000000    240.000000  216820.000000      2.096000  \n",
       "50%      480.000000    360.000000  219480.000000      4.408000  \n",
       "75%     1280.000000    720.000000  219656.000000     10.433000  \n",
       "max     1920.000000   1080.000000  711824.000000    224.574000  "
      ]
     },
     "execution_count": 6,
     "metadata": {},
     "output_type": "execute_result"
    }
   ],
   "source": [
    "# Jakie są podstawowe metryki statystyczne poszczególnych kolumn?\n",
    "data.describe()"
   ]
  },
  {
   "cell_type": "code",
   "execution_count": 7,
   "metadata": {},
   "outputs": [
    {
     "data": {
      "text/plain": [
       "0"
      ]
     },
     "execution_count": 7,
     "metadata": {},
     "output_type": "execute_result"
    }
   ],
   "source": [
    "# czy są zduplikowane wartości?\n",
    "len(data[data.duplicated()])"
   ]
  },
  {
   "cell_type": "markdown",
   "metadata": {},
   "source": [
    "### Korelacja\n",
    "Na co zwrócić uwagę?\n",
    "* zostawić zmienne, skorelowane z targetem;\n",
    "* usunąć zmienne skorelowane ze sobą.\n",
    "\n",
    "Informacja przydaje się na etapie __Feature Selection__ - co chcemy włączyć w dataset treningowy."
   ]
  },
  {
   "cell_type": "code",
   "execution_count": 8,
   "metadata": {},
   "outputs": [],
   "source": [
    "# sns.set()\n",
    "\n",
    "# corr = data.sample(1000).corr()\n",
    "\n",
    "# fig, ax = plt.subplots(figsize=(50,30)) # Sample figsize in inches\n",
    "# sns.heatmap(corr, annot=True, linewidths=.5, ax=ax)\n",
    "# plt.show()"
   ]
  },
  {
   "cell_type": "markdown",
   "metadata": {},
   "source": [
    "Widoczna jest silna korelacja pomiędzy wymiarami docelowego pliku a czasem transkodowania. "
   ]
  },
  {
   "cell_type": "markdown",
   "metadata": {},
   "source": [
    "### Analiza pól numerycznych"
   ]
  },
  {
   "cell_type": "code",
   "execution_count": 9,
   "metadata": {},
   "outputs": [
    {
     "data": {
      "text/plain": [
       "Index(['duration', 'width', 'height', 'bitrate', 'framerate', 'i', 'p', 'b',\n",
       "       'frames', 'i_size', 'p_size', 'b_size', 'size', 'o_bitrate',\n",
       "       'o_framerate', 'o_width', 'o_height', 'umem', 'utime'],\n",
       "      dtype='object')"
      ]
     },
     "execution_count": 9,
     "metadata": {},
     "output_type": "execute_result"
    }
   ],
   "source": [
    "numeric_columns = data.select_dtypes(include=np.number).columns\n",
    "numeric_columns"
   ]
  },
  {
   "cell_type": "code",
   "execution_count": 10,
   "metadata": {},
   "outputs": [
    {
     "name": "stdout",
     "output_type": "stream",
     "text": [
      "kolumna: duration\n",
      "unikalnych wartości: 1086\n"
     ]
    },
    {
     "data": {
      "image/png": "[encoded data removed]",
      "text/plain": [
       "<Figure size 432x288 with 1 Axes>"
      ]
     },
     "metadata": {
      "needs_background": "light"
     },
     "output_type": "display_data"
    },
    {
     "name": "stdout",
     "output_type": "stream",
     "text": [
      "kolumna: width\n",
      "unikalnych wartości: 6\n"
     ]
    },
    {
     "data": {
      "image/png": "[encoded data removed]",
      "text/plain": [
       "<Figure size 432x288 with 1 Axes>"
      ]
     },
     "metadata": {
      "needs_background": "light"
     },
     "output_type": "display_data"
    },
    {
     "name": "stdout",
     "output_type": "stream",
     "text": [
      "kolumna: height\n",
      "unikalnych wartości: 6\n"
     ]
    },
    {
     "data": {
      "image/png": "[encoded data removed]",
      "text/plain": [
       "<Figure size 432x288 with 1 Axes>"
      ]
     },
     "metadata": {
      "needs_background": "light"
     },
     "output_type": "display_data"
    },
    {
     "name": "stdout",
     "output_type": "stream",
     "text": [
      "kolumna: bitrate\n",
      "unikalnych wartości: 1095\n"
     ]
    },
    {
     "data": {
      "image/png": "[encoded data removed]",
      "text/plain": [
       "<Figure size 432x288 with 1 Axes>"
      ]
     },
     "metadata": {
      "needs_background": "light"
     },
     "output_type": "display_data"
    },
    {
     "name": "stdout",
     "output_type": "stream",
     "text": [
      "kolumna: framerate\n",
      "unikalnych wartości: 261\n"
     ]
    },
    {
     "data": {
      "image/png": "[encoded data removed]",
      "text/plain": [
       "<Figure size 432x288 with 1 Axes>"
      ]
     },
     "metadata": {
      "needs_background": "light"
     },
     "output_type": "display_data"
    },
    {
     "name": "stdout",
     "output_type": "stream",
     "text": [
      "kolumna: i\n",
      "unikalnych wartości: 306\n"
     ]
    },
    {
     "data": {
      "image/png": "[encoded data removed]",
      "text/plain": [
       "<Figure size 432x288 with 1 Axes>"
      ]
     },
     "metadata": {
      "needs_background": "light"
     },
     "output_type": "display_data"
    },
    {
     "name": "stdout",
     "output_type": "stream",
     "text": [
      "kolumna: p\n",
      "unikalnych wartości: 1042\n"
     ]
    },
    {
     "data": {
      "image/png": "[encoded data removed]",
      "text/plain": [
       "<Figure size 432x288 with 1 Axes>"
      ]
     },
     "metadata": {
      "needs_background": "light"
     },
     "output_type": "display_data"
    },
    {
     "name": "stdout",
     "output_type": "stream",
     "text": [
      "kolumna: b\n",
      "unikalnych wartości: 20\n"
     ]
    },
    {
     "data": {
      "image/png": "[encoded data removed]",
      "text/plain": [
       "<Figure size 432x288 with 1 Axes>"
      ]
     },
     "metadata": {
      "needs_background": "light"
     },
     "output_type": "display_data"
    },
    {
     "name": "stdout",
     "output_type": "stream",
     "text": [
      "kolumna: frames\n",
      "unikalnych wartości: 1044\n"
     ]
    },
    {
     "data": {
      "image/png": "[encoded data removed]",
      "text/plain": [
       "<Figure size 432x288 with 1 Axes>"
      ]
     },
     "metadata": {
      "needs_background": "light"
     },
     "output_type": "display_data"
    },
    {
     "name": "stdout",
     "output_type": "stream",
     "text": [
      "kolumna: i_size\n",
      "unikalnych wartości: 1099\n"
     ]
    },
    {
     "data": {
      "image/png": "[encoded data removed]",
      "text/plain": [
       "<Figure size 432x288 with 1 Axes>"
      ]
     },
     "metadata": {
      "needs_background": "light"
     },
     "output_type": "display_data"
    },
    {
     "name": "stdout",
     "output_type": "stream",
     "text": [
      "kolumna: p_size\n",
      "unikalnych wartości: 1099\n"
     ]
    },
    {
     "data": {
      "image/png": "[encoded data removed]",
      "text/plain": [
       "<Figure size 432x288 with 1 Axes>"
      ]
     },
     "metadata": {
      "needs_background": "light"
     },
     "output_type": "display_data"
    },
    {
     "name": "stdout",
     "output_type": "stream",
     "text": [
      "kolumna: b_size\n",
      "unikalnych wartości: 1\n"
     ]
    },
    {
     "data": {
      "image/png": "[encoded data removed]",
      "text/plain": [
       "<Figure size 432x288 with 1 Axes>"
      ]
     },
     "metadata": {
      "needs_background": "light"
     },
     "output_type": "display_data"
    },
    {
     "name": "stdout",
     "output_type": "stream",
     "text": [
      "kolumna: size\n",
      "unikalnych wartości: 1099\n"
     ]
    },
    {
     "data": {
      "image/png": "[encoded data removed]",
      "text/plain": [
       "<Figure size 432x288 with 1 Axes>"
      ]
     },
     "metadata": {
      "needs_background": "light"
     },
     "output_type": "display_data"
    },
    {
     "name": "stdout",
     "output_type": "stream",
     "text": [
      "kolumna: o_bitrate\n",
      "unikalnych wartości: 7\n"
     ]
    },
    {
     "data": {
      "image/png": "[encoded data removed]",
      "text/plain": [
       "<Figure size 432x288 with 1 Axes>"
      ]
     },
     "metadata": {
      "needs_background": "light"
     },
     "output_type": "display_data"
    },
    {
     "name": "stdout",
     "output_type": "stream",
     "text": [
      "kolumna: o_framerate\n",
      "unikalnych wartości: 5\n"
     ]
    },
    {
     "data": {
      "image/png": "[encoded data removed]",
      "text/plain": [
       "<Figure size 432x288 with 1 Axes>"
      ]
     },
     "metadata": {
      "needs_background": "light"
     },
     "output_type": "display_data"
    },
    {
     "name": "stdout",
     "output_type": "stream",
     "text": [
      "kolumna: o_width\n",
      "unikalnych wartości: 6\n"
     ]
    },
    {
     "data": {
      "image/png": "[encoded data removed]",
      "text/plain": [
       "<Figure size 432x288 with 1 Axes>"
      ]
     },
     "metadata": {
      "needs_background": "light"
     },
     "output_type": "display_data"
    },
    {
     "name": "stdout",
     "output_type": "stream",
     "text": [
      "kolumna: o_height\n",
      "unikalnych wartości: 6\n"
     ]
    },
    {
     "data": {
      "image/png": "[encoded data removed]",
      "text/plain": [
       "<Figure size 432x288 with 1 Axes>"
      ]
     },
     "metadata": {
      "needs_background": "light"
     },
     "output_type": "display_data"
    },
    {
     "name": "stdout",
     "output_type": "stream",
     "text": [
      "kolumna: umem\n",
      "unikalnych wartości: 9395\n"
     ]
    },
    {
     "data": {
      "image/png": "[encoded data removed]",
      "text/plain": [
       "<Figure size 432x288 with 1 Axes>"
      ]
     },
     "metadata": {
      "needs_background": "light"
     },
     "output_type": "display_data"
    },
    {
     "name": "stdout",
     "output_type": "stream",
     "text": [
      "kolumna: utime\n",
      "unikalnych wartości: 10960\n"
     ]
    },
    {
     "data": {
      "image/png": "[encoded data removed]",
      "text/plain": [
       "<Figure size 432x288 with 1 Axes>"
      ]
     },
     "metadata": {
      "needs_background": "light"
     },
     "output_type": "display_data"
    }
   ],
   "source": [
    "for col in numeric_columns:\n",
    "  print(f'kolumna: {col}')\n",
    "  print(f'unikalnych wartości: {len(data[col].unique())}')\n",
    "  data[col].plot.hist(bins=40)\n",
    "  plt.show()"
   ]
  },
  {
   "cell_type": "code",
   "execution_count": 11,
   "metadata": {},
   "outputs": [
    {
     "name": "stdout",
     "output_type": "stream",
     "text": [
      "unikalnych wartości w 'b_size': 1\n",
      "Wierszy z polem 'b' != 0: 859\n",
      "Wierszy z polem 'b' != 0: 1.248836938822982%\n"
     ]
    }
   ],
   "source": [
    "print(f\"unikalnych wartości w 'b_size': {len(data['b_size'].unique())}\")\n",
    "print(f\"Wierszy z polem 'b' != 0: {len(data[data['b'] > 0])}\")\n",
    "print(f\"Wierszy z polem 'b' != 0: {len(data[data['b'] > 0])/len(data)*100}%\")"
   ]
  },
  {
   "cell_type": "markdown",
   "metadata": {},
   "source": [
    "#### Wnioski\n",
    "Kolumna 'b_size' nie zawiera niezerowych wartości. Można ją usunąć.\n",
    "Kolumna 'b' jest niezerowa w ~1% przypadków."
   ]
  },
  {
   "cell_type": "markdown",
   "metadata": {},
   "source": [
    "#### Analiza kolumn kategorycznych"
   ]
  },
  {
   "cell_type": "code",
   "execution_count": 12,
   "metadata": {},
   "outputs": [
    {
     "data": {
      "text/plain": [
       "Index(['id', 'codec', 'o_codec'], dtype='object')"
      ]
     },
     "execution_count": 12,
     "metadata": {},
     "output_type": "execute_result"
    }
   ],
   "source": [
    "non_numeric_columns = data.select_dtypes(exclude=np.number).columns\n",
    "non_numeric_columns"
   ]
  },
  {
   "cell_type": "code",
   "execution_count": 13,
   "metadata": {},
   "outputs": [
    {
     "name": "stdout",
     "output_type": "stream",
     "text": [
      "kolumna: id\n",
      "unikalnych wartości: 1099\n",
      "kolumna: codec\n",
      "unikalnych wartości: 4\n"
     ]
    },
    {
     "data": {
      "image/png": "[encoded data removed]",
      "text/plain": [
       "<Figure size 432x288 with 1 Axes>"
      ]
     },
     "metadata": {
      "needs_background": "light"
     },
     "output_type": "display_data"
    },
    {
     "name": "stdout",
     "output_type": "stream",
     "text": [
      "kolumna: o_codec\n",
      "unikalnych wartości: 4\n"
     ]
    },
    {
     "data": {
      "image/png": "[encoded data removed]",
      "text/plain": [
       "<Figure size 432x288 with 1 Axes>"
      ]
     },
     "metadata": {
      "needs_background": "light"
     },
     "output_type": "display_data"
    }
   ],
   "source": [
    "for col in non_numeric_columns:\n",
    "  print(f'kolumna: {col}')\n",
    "  print(f'unikalnych wartości: {len(data[col].unique())}')\n",
    "  if len(data[col].unique()) < 15:\n",
    "    data[col].value_counts().plot.bar()\n",
    "    plt.show()"
   ]
  },
  {
   "cell_type": "markdown",
   "metadata": {},
   "source": [
    "### Wartości brakujące"
   ]
  },
  {
   "cell_type": "code",
   "execution_count": 14,
   "metadata": {},
   "outputs": [
    {
     "data": {
      "text/plain": [
       "id             0\n",
       "duration       0\n",
       "codec          0\n",
       "width          0\n",
       "height         0\n",
       "bitrate        0\n",
       "framerate      0\n",
       "i              0\n",
       "p              0\n",
       "b              0\n",
       "frames         0\n",
       "i_size         0\n",
       "p_size         0\n",
       "b_size         0\n",
       "size           0\n",
       "o_codec        0\n",
       "o_bitrate      0\n",
       "o_framerate    0\n",
       "o_width        0\n",
       "o_height       0\n",
       "umem           0\n",
       "utime          0\n",
       "dtype: int64"
      ]
     },
     "execution_count": 14,
     "metadata": {},
     "output_type": "execute_result"
    }
   ],
   "source": [
    "data.isnull().sum()"
   ]
  },
  {
   "cell_type": "markdown",
   "metadata": {},
   "source": [
    "## Outliers"
   ]
  },
  {
   "cell_type": "code",
   "execution_count": 15,
   "metadata": {},
   "outputs": [],
   "source": [
    "data_2 = data.copy()"
   ]
  },
  {
   "cell_type": "markdown",
   "metadata": {},
   "source": [
    "Do obcięcia outlierów pomocniczo wykorzystujemy poniższe wzory:\n",
    "- IQR (interquartile range) = P(75) - P(25)\n",
    "- Dolna_granica = P(25) - 1,5*IQR\n",
    "- Gorna_granica = P(75) + 1,5*IQR\n",
    "- (P - percentyl)\n"
   ]
  },
  {
   "cell_type": "code",
   "execution_count": 16,
   "metadata": {},
   "outputs": [],
   "source": [
    "def outliners_range(data, column_name):\n",
    "    rows = data[column_name]\n",
    "    iqr = np.nanpercentile(rows, 75) - np.nanpercentile(rows, 25)\n",
    "    lower = (np.nanpercentile(rows, 25) - 1.5*iqr)\n",
    "    upper = (np.nanpercentile(rows, 75) + 1.5*iqr) \n",
    "    return lower, upper"
   ]
  },
  {
   "cell_type": "markdown",
   "metadata": {},
   "source": [
    "### Kolumny numeryczne"
   ]
  },
  {
   "cell_type": "code",
   "execution_count": 17,
   "metadata": {},
   "outputs": [
    {
     "data": {
      "text/html": [
       "<div>\n",
       "<style scoped>\n",
       "    .dataframe tbody tr th:only-of-type {\n",
       "        vertical-align: middle;\n",
       "    }\n",
       "\n",
       "    .dataframe tbody tr th {\n",
       "        vertical-align: top;\n",
       "    }\n",
       "\n",
       "    .dataframe thead th {\n",
       "        text-align: right;\n",
       "    }\n",
       "</style>\n",
       "<table border=\"1\" class=\"dataframe\">\n",
       "  <thead>\n",
       "    <tr style=\"text-align: right;\">\n",
       "      <th></th>\n",
       "      <th>duration</th>\n",
       "      <th>width</th>\n",
       "      <th>height</th>\n",
       "      <th>bitrate</th>\n",
       "      <th>framerate</th>\n",
       "      <th>i</th>\n",
       "      <th>p</th>\n",
       "      <th>b</th>\n",
       "      <th>frames</th>\n",
       "      <th>i_size</th>\n",
       "      <th>p_size</th>\n",
       "      <th>b_size</th>\n",
       "      <th>size</th>\n",
       "      <th>o_bitrate</th>\n",
       "      <th>o_framerate</th>\n",
       "      <th>o_width</th>\n",
       "      <th>o_height</th>\n",
       "      <th>umem</th>\n",
       "      <th>utime</th>\n",
       "    </tr>\n",
       "  </thead>\n",
       "  <tbody>\n",
       "    <tr>\n",
       "      <td>0</td>\n",
       "      <td>130.35667</td>\n",
       "      <td>176</td>\n",
       "      <td>144</td>\n",
       "      <td>54590</td>\n",
       "      <td>12.0</td>\n",
       "      <td>27</td>\n",
       "      <td>1537</td>\n",
       "      <td>0</td>\n",
       "      <td>1564</td>\n",
       "      <td>64483</td>\n",
       "      <td>825054</td>\n",
       "      <td>0</td>\n",
       "      <td>889537</td>\n",
       "      <td>56000</td>\n",
       "      <td>12.0</td>\n",
       "      <td>176</td>\n",
       "      <td>144</td>\n",
       "      <td>22508</td>\n",
       "      <td>0.612</td>\n",
       "    </tr>\n",
       "    <tr>\n",
       "      <td>1</td>\n",
       "      <td>130.35667</td>\n",
       "      <td>176</td>\n",
       "      <td>144</td>\n",
       "      <td>54590</td>\n",
       "      <td>12.0</td>\n",
       "      <td>27</td>\n",
       "      <td>1537</td>\n",
       "      <td>0</td>\n",
       "      <td>1564</td>\n",
       "      <td>64483</td>\n",
       "      <td>825054</td>\n",
       "      <td>0</td>\n",
       "      <td>889537</td>\n",
       "      <td>56000</td>\n",
       "      <td>12.0</td>\n",
       "      <td>320</td>\n",
       "      <td>240</td>\n",
       "      <td>25164</td>\n",
       "      <td>0.980</td>\n",
       "    </tr>\n",
       "    <tr>\n",
       "      <td>2</td>\n",
       "      <td>130.35667</td>\n",
       "      <td>176</td>\n",
       "      <td>144</td>\n",
       "      <td>54590</td>\n",
       "      <td>12.0</td>\n",
       "      <td>27</td>\n",
       "      <td>1537</td>\n",
       "      <td>0</td>\n",
       "      <td>1564</td>\n",
       "      <td>64483</td>\n",
       "      <td>825054</td>\n",
       "      <td>0</td>\n",
       "      <td>889537</td>\n",
       "      <td>56000</td>\n",
       "      <td>12.0</td>\n",
       "      <td>480</td>\n",
       "      <td>360</td>\n",
       "      <td>29228</td>\n",
       "      <td>1.216</td>\n",
       "    </tr>\n",
       "    <tr>\n",
       "      <td>3</td>\n",
       "      <td>130.35667</td>\n",
       "      <td>176</td>\n",
       "      <td>144</td>\n",
       "      <td>54590</td>\n",
       "      <td>12.0</td>\n",
       "      <td>27</td>\n",
       "      <td>1537</td>\n",
       "      <td>0</td>\n",
       "      <td>1564</td>\n",
       "      <td>64483</td>\n",
       "      <td>825054</td>\n",
       "      <td>0</td>\n",
       "      <td>889537</td>\n",
       "      <td>56000</td>\n",
       "      <td>12.0</td>\n",
       "      <td>640</td>\n",
       "      <td>480</td>\n",
       "      <td>34316</td>\n",
       "      <td>1.692</td>\n",
       "    </tr>\n",
       "    <tr>\n",
       "      <td>4</td>\n",
       "      <td>130.35667</td>\n",
       "      <td>176</td>\n",
       "      <td>144</td>\n",
       "      <td>54590</td>\n",
       "      <td>12.0</td>\n",
       "      <td>27</td>\n",
       "      <td>1537</td>\n",
       "      <td>0</td>\n",
       "      <td>1564</td>\n",
       "      <td>64483</td>\n",
       "      <td>825054</td>\n",
       "      <td>0</td>\n",
       "      <td>889537</td>\n",
       "      <td>56000</td>\n",
       "      <td>12.0</td>\n",
       "      <td>1280</td>\n",
       "      <td>720</td>\n",
       "      <td>58528</td>\n",
       "      <td>3.456</td>\n",
       "    </tr>\n",
       "  </tbody>\n",
       "</table>\n",
       "</div>"
      ],
      "text/plain": [
       "    duration  width  height  bitrate  framerate   i     p  b  frames  i_size  \\\n",
       "0  130.35667    176     144    54590       12.0  27  1537  0    1564   64483   \n",
       "1  130.35667    176     144    54590       12.0  27  1537  0    1564   64483   \n",
       "2  130.35667    176     144    54590       12.0  27  1537  0    1564   64483   \n",
       "3  130.35667    176     144    54590       12.0  27  1537  0    1564   64483   \n",
       "4  130.35667    176     144    54590       12.0  27  1537  0    1564   64483   \n",
       "\n",
       "   p_size  b_size    size  o_bitrate  o_framerate  o_width  o_height   umem  \\\n",
       "0  825054       0  889537      56000         12.0      176       144  22508   \n",
       "1  825054       0  889537      56000         12.0      320       240  25164   \n",
       "2  825054       0  889537      56000         12.0      480       360  29228   \n",
       "3  825054       0  889537      56000         12.0      640       480  34316   \n",
       "4  825054       0  889537      56000         12.0     1280       720  58528   \n",
       "\n",
       "   utime  \n",
       "0  0.612  \n",
       "1  0.980  \n",
       "2  1.216  \n",
       "3  1.692  \n",
       "4  3.456  "
      ]
     },
     "execution_count": 17,
     "metadata": {},
     "output_type": "execute_result"
    }
   ],
   "source": [
    "numeric_columns = data_2.select_dtypes(include=np.number).columns\n",
    "numeric_data = data_2[numeric_columns]\n",
    "numeric_data.head()"
   ]
  },
  {
   "cell_type": "code",
   "execution_count": 18,
   "metadata": {},
   "outputs": [
    {
     "name": "stdout",
     "output_type": "stream",
     "text": [
      "Kolumna: duration\n"
     ]
    },
    {
     "data": {
      "image/png": "[encoded data removed]",
      "text/plain": [
       "<Figure size 432x288 with 1 Axes>"
      ]
     },
     "metadata": {
      "needs_background": "light"
     },
     "output_type": "display_data"
    },
    {
     "data": {
      "image/png": "[encoded data removed]",
      "text/plain": [
       "<Figure size 432x288 with 1 Axes>"
      ]
     },
     "metadata": {
      "needs_background": "light"
     },
     "output_type": "display_data"
    },
    {
     "name": "stdout",
     "output_type": "stream",
     "text": [
      "Kolumna: width\n"
     ]
    },
    {
     "data": {
      "image/png": "[encoded data removed]",
      "text/plain": [
       "<Figure size 432x288 with 1 Axes>"
      ]
     },
     "metadata": {
      "needs_background": "light"
     },
     "output_type": "display_data"
    },
    {
     "data": {
      "image/png": "[encoded data removed]",
      "text/plain": [
       "<Figure size 432x288 with 1 Axes>"
      ]
     },
     "metadata": {
      "needs_background": "light"
     },
     "output_type": "display_data"
    },
    {
     "name": "stdout",
     "output_type": "stream",
     "text": [
      "Kolumna: height\n"
     ]
    },
    {
     "data": {
      "image/png": "[encoded data removed]",
      "text/plain": [
       "<Figure size 432x288 with 1 Axes>"
      ]
     },
     "metadata": {
      "needs_background": "light"
     },
     "output_type": "display_data"
    },
    {
     "data": {
      "image/png": "[encoded data removed]",
      "text/plain": [
       "<Figure size 432x288 with 1 Axes>"
      ]
     },
     "metadata": {
      "needs_background": "light"
     },
     "output_type": "display_data"
    },
    {
     "name": "stdout",
     "output_type": "stream",
     "text": [
      "Kolumna: bitrate\n"
     ]
    },
    {
     "data": {
      "image/png": "[encoded data removed]",
      "text/plain": [
       "<Figure size 432x288 with 1 Axes>"
      ]
     },
     "metadata": {
      "needs_background": "light"
     },
     "output_type": "display_data"
    },
    {
     "data": {
      "image/png": "[encoded data removed]",
      "text/plain": [
       "<Figure size 432x288 with 1 Axes>"
      ]
     },
     "metadata": {
      "needs_background": "light"
     },
     "output_type": "display_data"
    },
    {
     "name": "stdout",
     "output_type": "stream",
     "text": [
      "Kolumna: framerate\n"
     ]
    },
    {
     "data": {
      "image/png": "[encoded data removed]",
      "text/plain": [
       "<Figure size 432x288 with 1 Axes>"
      ]
     },
     "metadata": {
      "needs_background": "light"
     },
     "output_type": "display_data"
    },
    {
     "data": {
      "image/png": "[encoded data removed]",
      "text/plain": [
       "<Figure size 432x288 with 1 Axes>"
      ]
     },
     "metadata": {
      "needs_background": "light"
     },
     "output_type": "display_data"
    },
    {
     "name": "stdout",
     "output_type": "stream",
     "text": [
      "Kolumna: i\n"
     ]
    },
    {
     "data": {
      "image/png": "[encoded data removed]",
      "text/plain": [
       "<Figure size 432x288 with 1 Axes>"
      ]
     },
     "metadata": {
      "needs_background": "light"
     },
     "output_type": "display_data"
    },
    {
     "data": {
      "image/png": "[encoded data removed]",
      "text/plain": [
       "<Figure size 432x288 with 1 Axes>"
      ]
     },
     "metadata": {
      "needs_background": "light"
     },
     "output_type": "display_data"
    },
    {
     "name": "stdout",
     "output_type": "stream",
     "text": [
      "Kolumna: p\n"
     ]
    },
    {
     "data": {
      "image/png": "[encoded data removed]",
      "text/plain": [
       "<Figure size 432x288 with 1 Axes>"
      ]
     },
     "metadata": {
      "needs_background": "light"
     },
     "output_type": "display_data"
    },
    {
     "data": {
      "image/png": "[encoded data removed]",
      "text/plain": [
       "<Figure size 432x288 with 1 Axes>"
      ]
     },
     "metadata": {
      "needs_background": "light"
     },
     "output_type": "display_data"
    },
    {
     "name": "stdout",
     "output_type": "stream",
     "text": [
      "Kolumna: b\n"
     ]
    },
    {
     "data": {
      "image/png": "[encoded data removed]",
      "text/plain": [
       "<Figure size 432x288 with 1 Axes>"
      ]
     },
     "metadata": {
      "needs_background": "light"
     },
     "output_type": "display_data"
    },
    {
     "data": {
      "image/png": "[encoded data removed]",
      "text/plain": [
       "<Figure size 432x288 with 1 Axes>"
      ]
     },
     "metadata": {
      "needs_background": "light"
     },
     "output_type": "display_data"
    },
    {
     "name": "stdout",
     "output_type": "stream",
     "text": [
      "Kolumna: frames\n"
     ]
    },
    {
     "data": {
      "image/png": "[encoded data removed]",
      "text/plain": [
       "<Figure size 432x288 with 1 Axes>"
      ]
     },
     "metadata": {
      "needs_background": "light"
     },
     "output_type": "display_data"
    },
    {
     "data": {
      "image/png": "[encoded data removed]",
      "text/plain": [
       "<Figure size 432x288 with 1 Axes>"
      ]
     },
     "metadata": {
      "needs_background": "light"
     },
     "output_type": "display_data"
    },
    {
     "name": "stdout",
     "output_type": "stream",
     "text": [
      "Kolumna: i_size\n"
     ]
    },
    {
     "data": {
      "image/png": "[encoded data removed]",
      "text/plain": [
       "<Figure size 432x288 with 1 Axes>"
      ]
     },
     "metadata": {
      "needs_background": "light"
     },
     "output_type": "display_data"
    },
    {
     "data": {
      "image/png": "[encoded data removed]",
      "text/plain": [
       "<Figure size 432x288 with 1 Axes>"
      ]
     },
     "metadata": {
      "needs_background": "light"
     },
     "output_type": "display_data"
    },
    {
     "name": "stdout",
     "output_type": "stream",
     "text": [
      "Kolumna: p_size\n"
     ]
    },
    {
     "data": {
      "image/png": "[encoded data removed]",
      "text/plain": [
       "<Figure size 432x288 with 1 Axes>"
      ]
     },
     "metadata": {
      "needs_background": "light"
     },
     "output_type": "display_data"
    },
    {
     "data": {
      "image/png": "[encoded data removed]",
      "text/plain": [
       "<Figure size 432x288 with 1 Axes>"
      ]
     },
     "metadata": {
      "needs_background": "light"
     },
     "output_type": "display_data"
    },
    {
     "name": "stdout",
     "output_type": "stream",
     "text": [
      "Kolumna: b_size\n"
     ]
    },
    {
     "data": {
      "image/png": "[encoded data removed]",
      "text/plain": [
       "<Figure size 432x288 with 1 Axes>"
      ]
     },
     "metadata": {
      "needs_background": "light"
     },
     "output_type": "display_data"
    },
    {
     "data": {
      "image/png": "[encoded data removed]",
      "text/plain": [
       "<Figure size 432x288 with 1 Axes>"
      ]
     },
     "metadata": {
      "needs_background": "light"
     },
     "output_type": "display_data"
    },
    {
     "name": "stdout",
     "output_type": "stream",
     "text": [
      "Kolumna: size\n"
     ]
    },
    {
     "data": {
      "image/png": "[encoded data removed]",
      "text/plain": [
       "<Figure size 432x288 with 1 Axes>"
      ]
     },
     "metadata": {
      "needs_background": "light"
     },
     "output_type": "display_data"
    },
    {
     "data": {
      "image/png": "[encoded data removed]",
      "text/plain": [
       "<Figure size 432x288 with 1 Axes>"
      ]
     },
     "metadata": {
      "needs_background": "light"
     },
     "output_type": "display_data"
    },
    {
     "name": "stdout",
     "output_type": "stream",
     "text": [
      "Kolumna: o_bitrate\n"
     ]
    },
    {
     "data": {
      "image/png": "[encoded data removed]",
      "text/plain": [
       "<Figure size 432x288 with 1 Axes>"
      ]
     },
     "metadata": {
      "needs_background": "light"
     },
     "output_type": "display_data"
    },
    {
     "data": {
      "image/png": "[encoded data removed]",
      "text/plain": [
       "<Figure size 432x288 with 1 Axes>"
      ]
     },
     "metadata": {
      "needs_background": "light"
     },
     "output_type": "display_data"
    },
    {
     "name": "stdout",
     "output_type": "stream",
     "text": [
      "Kolumna: o_framerate\n"
     ]
    },
    {
     "data": {
      "image/png": "[encoded data removed]",
      "text/plain": [
       "<Figure size 432x288 with 1 Axes>"
      ]
     },
     "metadata": {
      "needs_background": "light"
     },
     "output_type": "display_data"
    },
    {
     "data": {
      "image/png": "[encoded data removed]",
      "text/plain": [
       "<Figure size 432x288 with 1 Axes>"
      ]
     },
     "metadata": {
      "needs_background": "light"
     },
     "output_type": "display_data"
    },
    {
     "name": "stdout",
     "output_type": "stream",
     "text": [
      "Kolumna: o_width\n"
     ]
    },
    {
     "data": {
      "image/png": "[encoded data removed]",
      "text/plain": [
       "<Figure size 432x288 with 1 Axes>"
      ]
     },
     "metadata": {
      "needs_background": "light"
     },
     "output_type": "display_data"
    },
    {
     "data": {
      "image/png": "[encoded data removed]",
      "text/plain": [
       "<Figure size 432x288 with 1 Axes>"
      ]
     },
     "metadata": {
      "needs_background": "light"
     },
     "output_type": "display_data"
    },
    {
     "name": "stdout",
     "output_type": "stream",
     "text": [
      "Kolumna: o_height\n"
     ]
    },
    {
     "data": {
      "image/png": "[encoded data removed]",
      "text/plain": [
       "<Figure size 432x288 with 1 Axes>"
      ]
     },
     "metadata": {
      "needs_background": "light"
     },
     "output_type": "display_data"
    },
    {
     "data": {
      "image/png": "[encoded data removed]",
      "text/plain": [
       "<Figure size 432x288 with 1 Axes>"
      ]
     },
     "metadata": {
      "needs_background": "light"
     },
     "output_type": "display_data"
    },
    {
     "name": "stdout",
     "output_type": "stream",
     "text": [
      "Kolumna: umem\n"
     ]
    },
    {
     "data": {
      "image/png": "[encoded data removed]",
      "text/plain": [
       "<Figure size 432x288 with 1 Axes>"
      ]
     },
     "metadata": {
      "needs_background": "light"
     },
     "output_type": "display_data"
    },
    {
     "data": {
      "image/png": "[encoded data removed]",
      "text/plain": [
       "<Figure size 432x288 with 1 Axes>"
      ]
     },
     "metadata": {
      "needs_background": "light"
     },
     "output_type": "display_data"
    },
    {
     "name": "stdout",
     "output_type": "stream",
     "text": [
      "Kolumna: utime\n"
     ]
    },
    {
     "data": {
      "image/png": "[encoded data removed]",
      "text/plain": [
       "<Figure size 432x288 with 1 Axes>"
      ]
     },
     "metadata": {
      "needs_background": "light"
     },
     "output_type": "display_data"
    },
    {
     "data": {
      "image/png": "[encoded data removed]",
      "text/plain": [
       "<Figure size 432x288 with 1 Axes>"
      ]
     },
     "metadata": {
      "needs_background": "light"
     },
     "output_type": "display_data"
    }
   ],
   "source": [
    "# wizualizacja rozkładu danych poszczególnych kolumn\n",
    "for column in numeric_data:\n",
    "  print(f'Kolumna: {column}')\n",
    "  numeric_data[column].plot.hist()\n",
    "  plt.show()\n",
    "  numeric_data[column].plot.box()\n",
    "  plt.show()"
   ]
  },
  {
   "cell_type": "markdown",
   "metadata": {},
   "source": [
    "#### Kolumna \"frames\""
   ]
  },
  {
   "cell_type": "code",
   "execution_count": 19,
   "metadata": {},
   "outputs": [
    {
     "data": {
      "text/plain": [
       "(-7805.5, 19454.5)"
      ]
     },
     "execution_count": 19,
     "metadata": {},
     "output_type": "execute_result"
    }
   ],
   "source": [
    "lower, upper = outliners_range(numeric_data, 'frames')\n",
    "lower, upper"
   ]
  },
  {
   "cell_type": "code",
   "execution_count": 20,
   "metadata": {},
   "outputs": [
    {
     "name": "stdout",
     "output_type": "stream",
     "text": [
      "wartości >19454.5: 3076 (4.47%)\n",
      "wartości >30k: 869 (1.26%)\n",
      "wartości >35k: 20 (0.03%)\n"
     ]
    }
   ],
   "source": [
    "num = len(numeric_data[numeric_data[\"frames\"]>upper])\n",
    "print(f'wartości >{upper}: {num} ({round(num/len(data_2)*100, 2)}%)')\n",
    "num = len(numeric_data[numeric_data[\"frames\"]>30000])\n",
    "print(f'wartości >30k: {num} ({round(num/len(data_2)*100, 2)}%)')\n",
    "num = len(numeric_data[numeric_data[\"frames\"]>40000])\n",
    "print(f'wartości >35k: {num} ({round(num/len(data_2)*100, 2)}%)')"
   ]
  },
  {
   "cell_type": "code",
   "execution_count": 21,
   "metadata": {},
   "outputs": [
    {
     "data": {
      "image/png": "[encoded data removed]",
      "text/plain": [
       "<Figure size 432x288 with 1 Axes>"
      ]
     },
     "metadata": {
      "needs_background": "light"
     },
     "output_type": "display_data"
    }
   ],
   "source": [
    "# Obcięcie outlierów ( usunięcie wierszy z wart. >35k)\n",
    "data_2 = data_2[data_2['frames'] <= 35000 ]\n",
    "\n",
    "data_2['frames'].plot.box()\n",
    "plt.show()"
   ]
  },
  {
   "cell_type": "markdown",
   "metadata": {},
   "source": [
    "#### Kolumna \"duration\""
   ]
  },
  {
   "cell_type": "code",
   "execution_count": 22,
   "metadata": {},
   "outputs": [
    {
     "data": {
      "text/plain": [
       "(-302.0675, 788.1524999999999)"
      ]
     },
     "execution_count": 22,
     "metadata": {},
     "output_type": "execute_result"
    }
   ],
   "source": [
    "lower, upper = outliners_range(numeric_data, 'duration')\n",
    "lower, upper"
   ]
  },
  {
   "cell_type": "code",
   "execution_count": 23,
   "metadata": {},
   "outputs": [
    {
     "name": "stdout",
     "output_type": "stream",
     "text": [
      "wartości >788: 3080 (4.48%)\n",
      "wartości >1000: 1718 (2.5%)\n",
      "wartości >1500: 865 (1.26%)\n",
      "wartości >2000: 13 (0.02%)\n"
     ]
    }
   ],
   "source": [
    "num = len(numeric_data[numeric_data[\"duration\"]>788])\n",
    "print(f'wartości >788: {num} ({round(num/len(data_2)*100, 2)}%)')\n",
    "num = len(numeric_data[numeric_data[\"duration\"]>1000])\n",
    "print(f'wartości >1000: {num} ({round(num/len(data_2)*100, 2)}%)')\n",
    "num = len(numeric_data[numeric_data[\"duration\"]>1500])\n",
    "print(f'wartości >1500: {num} ({round(num/len(data_2)*100, 2)}%)')\n",
    "num = len(numeric_data[numeric_data[\"duration\"]>2000])\n",
    "print(f'wartości >2000: {num} ({round(num/len(data_2)*100, 2)}%)')"
   ]
  },
  {
   "cell_type": "code",
   "execution_count": 24,
   "metadata": {},
   "outputs": [
    {
     "data": {
      "image/png": "[encoded data removed]",
      "text/plain": [
       "<Figure size 432x288 with 1 Axes>"
      ]
     },
     "metadata": {
      "needs_background": "light"
     },
     "output_type": "display_data"
    }
   ],
   "source": [
    "# Obcięcie outlierów ( usunięcie wierszy z wart. >2k)\n",
    "data_2 = data_2[data_2['duration'] <= 2000 ]\n",
    "\n",
    "data_2['duration'].plot.box()\n",
    "plt.show()"
   ]
  },
  {
   "cell_type": "markdown",
   "metadata": {},
   "source": [
    "## Feature Engineering"
   ]
  },
  {
   "cell_type": "code",
   "execution_count": 25,
   "metadata": {},
   "outputs": [],
   "source": [
    "data_3 = data_2.copy()"
   ]
  },
  {
   "cell_type": "code",
   "execution_count": 26,
   "metadata": {},
   "outputs": [
    {
     "name": "stdout",
     "output_type": "stream",
     "text": [
      "codecs_with_b: ['mpeg4' 'h264' 'vp8' 'flv']\n",
      "codecs_without_b: ['h264']\n"
     ]
    }
   ],
   "source": [
    "codecs_with_b    = data_3[data_3['b']==0]['codec'].unique()\n",
    "codecs_without_b = data_3[data_3['b']!=0]['codec'].unique()\n",
    "print(f\"codecs_with_b: {codecs_with_b}\")\n",
    "print(f\"codecs_without_b: {codecs_without_b}\")"
   ]
  },
  {
   "cell_type": "markdown",
   "metadata": {},
   "source": [
    "Wniosek: Parametr 'b' jest niezerowy tylko w przypadku użycia kodeka 'h264'"
   ]
  },
  {
   "cell_type": "markdown",
   "metadata": {},
   "source": [
    "#### Dodatkowe pole - pixels (width*height)"
   ]
  },
  {
   "cell_type": "code",
   "execution_count": 27,
   "metadata": {},
   "outputs": [
    {
     "data": {
      "text/html": [
       "<div>\n",
       "<style scoped>\n",
       "    .dataframe tbody tr th:only-of-type {\n",
       "        vertical-align: middle;\n",
       "    }\n",
       "\n",
       "    .dataframe tbody tr th {\n",
       "        vertical-align: top;\n",
       "    }\n",
       "\n",
       "    .dataframe thead th {\n",
       "        text-align: right;\n",
       "    }\n",
       "</style>\n",
       "<table border=\"1\" class=\"dataframe\">\n",
       "  <thead>\n",
       "    <tr style=\"text-align: right;\">\n",
       "      <th></th>\n",
       "      <th>id</th>\n",
       "      <th>duration</th>\n",
       "      <th>codec</th>\n",
       "      <th>width</th>\n",
       "      <th>height</th>\n",
       "      <th>bitrate</th>\n",
       "      <th>framerate</th>\n",
       "      <th>i</th>\n",
       "      <th>p</th>\n",
       "      <th>b</th>\n",
       "      <th>...</th>\n",
       "      <th>b_size</th>\n",
       "      <th>size</th>\n",
       "      <th>o_codec</th>\n",
       "      <th>o_bitrate</th>\n",
       "      <th>o_framerate</th>\n",
       "      <th>o_width</th>\n",
       "      <th>o_height</th>\n",
       "      <th>umem</th>\n",
       "      <th>utime</th>\n",
       "      <th>pixels</th>\n",
       "    </tr>\n",
       "  </thead>\n",
       "  <tbody>\n",
       "    <tr>\n",
       "      <td>0</td>\n",
       "      <td>04t6-jw9czg</td>\n",
       "      <td>130.35667</td>\n",
       "      <td>mpeg4</td>\n",
       "      <td>176</td>\n",
       "      <td>144</td>\n",
       "      <td>54590</td>\n",
       "      <td>12.0</td>\n",
       "      <td>27</td>\n",
       "      <td>1537</td>\n",
       "      <td>0</td>\n",
       "      <td>...</td>\n",
       "      <td>0</td>\n",
       "      <td>889537</td>\n",
       "      <td>mpeg4</td>\n",
       "      <td>56000</td>\n",
       "      <td>12.0</td>\n",
       "      <td>176</td>\n",
       "      <td>144</td>\n",
       "      <td>22508</td>\n",
       "      <td>0.612</td>\n",
       "      <td>25344</td>\n",
       "    </tr>\n",
       "    <tr>\n",
       "      <td>1</td>\n",
       "      <td>04t6-jw9czg</td>\n",
       "      <td>130.35667</td>\n",
       "      <td>mpeg4</td>\n",
       "      <td>176</td>\n",
       "      <td>144</td>\n",
       "      <td>54590</td>\n",
       "      <td>12.0</td>\n",
       "      <td>27</td>\n",
       "      <td>1537</td>\n",
       "      <td>0</td>\n",
       "      <td>...</td>\n",
       "      <td>0</td>\n",
       "      <td>889537</td>\n",
       "      <td>mpeg4</td>\n",
       "      <td>56000</td>\n",
       "      <td>12.0</td>\n",
       "      <td>320</td>\n",
       "      <td>240</td>\n",
       "      <td>25164</td>\n",
       "      <td>0.980</td>\n",
       "      <td>25344</td>\n",
       "    </tr>\n",
       "    <tr>\n",
       "      <td>2</td>\n",
       "      <td>04t6-jw9czg</td>\n",
       "      <td>130.35667</td>\n",
       "      <td>mpeg4</td>\n",
       "      <td>176</td>\n",
       "      <td>144</td>\n",
       "      <td>54590</td>\n",
       "      <td>12.0</td>\n",
       "      <td>27</td>\n",
       "      <td>1537</td>\n",
       "      <td>0</td>\n",
       "      <td>...</td>\n",
       "      <td>0</td>\n",
       "      <td>889537</td>\n",
       "      <td>mpeg4</td>\n",
       "      <td>56000</td>\n",
       "      <td>12.0</td>\n",
       "      <td>480</td>\n",
       "      <td>360</td>\n",
       "      <td>29228</td>\n",
       "      <td>1.216</td>\n",
       "      <td>25344</td>\n",
       "    </tr>\n",
       "    <tr>\n",
       "      <td>3</td>\n",
       "      <td>04t6-jw9czg</td>\n",
       "      <td>130.35667</td>\n",
       "      <td>mpeg4</td>\n",
       "      <td>176</td>\n",
       "      <td>144</td>\n",
       "      <td>54590</td>\n",
       "      <td>12.0</td>\n",
       "      <td>27</td>\n",
       "      <td>1537</td>\n",
       "      <td>0</td>\n",
       "      <td>...</td>\n",
       "      <td>0</td>\n",
       "      <td>889537</td>\n",
       "      <td>mpeg4</td>\n",
       "      <td>56000</td>\n",
       "      <td>12.0</td>\n",
       "      <td>640</td>\n",
       "      <td>480</td>\n",
       "      <td>34316</td>\n",
       "      <td>1.692</td>\n",
       "      <td>25344</td>\n",
       "    </tr>\n",
       "    <tr>\n",
       "      <td>4</td>\n",
       "      <td>04t6-jw9czg</td>\n",
       "      <td>130.35667</td>\n",
       "      <td>mpeg4</td>\n",
       "      <td>176</td>\n",
       "      <td>144</td>\n",
       "      <td>54590</td>\n",
       "      <td>12.0</td>\n",
       "      <td>27</td>\n",
       "      <td>1537</td>\n",
       "      <td>0</td>\n",
       "      <td>...</td>\n",
       "      <td>0</td>\n",
       "      <td>889537</td>\n",
       "      <td>mpeg4</td>\n",
       "      <td>56000</td>\n",
       "      <td>12.0</td>\n",
       "      <td>1280</td>\n",
       "      <td>720</td>\n",
       "      <td>58528</td>\n",
       "      <td>3.456</td>\n",
       "      <td>25344</td>\n",
       "    </tr>\n",
       "  </tbody>\n",
       "</table>\n",
       "<p>5 rows × 23 columns</p>\n",
       "</div>"
      ],
      "text/plain": [
       "            id   duration  codec  width  height  bitrate  framerate   i     p  \\\n",
       "0  04t6-jw9czg  130.35667  mpeg4    176     144    54590       12.0  27  1537   \n",
       "1  04t6-jw9czg  130.35667  mpeg4    176     144    54590       12.0  27  1537   \n",
       "2  04t6-jw9czg  130.35667  mpeg4    176     144    54590       12.0  27  1537   \n",
       "3  04t6-jw9czg  130.35667  mpeg4    176     144    54590       12.0  27  1537   \n",
       "4  04t6-jw9czg  130.35667  mpeg4    176     144    54590       12.0  27  1537   \n",
       "\n",
       "   b  ...  b_size    size  o_codec  o_bitrate  o_framerate o_width  o_height  \\\n",
       "0  0  ...       0  889537    mpeg4      56000         12.0     176       144   \n",
       "1  0  ...       0  889537    mpeg4      56000         12.0     320       240   \n",
       "2  0  ...       0  889537    mpeg4      56000         12.0     480       360   \n",
       "3  0  ...       0  889537    mpeg4      56000         12.0     640       480   \n",
       "4  0  ...       0  889537    mpeg4      56000         12.0    1280       720   \n",
       "\n",
       "    umem  utime  pixels  \n",
       "0  22508  0.612   25344  \n",
       "1  25164  0.980   25344  \n",
       "2  29228  1.216   25344  \n",
       "3  34316  1.692   25344  \n",
       "4  58528  3.456   25344  \n",
       "\n",
       "[5 rows x 23 columns]"
      ]
     },
     "execution_count": 27,
     "metadata": {},
     "output_type": "execute_result"
    }
   ],
   "source": [
    "data_3['pixels'] = data_3['width'] * data_3['height']\n",
    "data_3.head()"
   ]
  },
  {
   "cell_type": "markdown",
   "metadata": {},
   "source": [
    "#### Dodatkowe pole - o_pixels (o_width*o_height)"
   ]
  },
  {
   "cell_type": "code",
   "execution_count": 28,
   "metadata": {},
   "outputs": [
    {
     "data": {
      "text/html": [
       "<div>\n",
       "<style scoped>\n",
       "    .dataframe tbody tr th:only-of-type {\n",
       "        vertical-align: middle;\n",
       "    }\n",
       "\n",
       "    .dataframe tbody tr th {\n",
       "        vertical-align: top;\n",
       "    }\n",
       "\n",
       "    .dataframe thead th {\n",
       "        text-align: right;\n",
       "    }\n",
       "</style>\n",
       "<table border=\"1\" class=\"dataframe\">\n",
       "  <thead>\n",
       "    <tr style=\"text-align: right;\">\n",
       "      <th></th>\n",
       "      <th>id</th>\n",
       "      <th>duration</th>\n",
       "      <th>codec</th>\n",
       "      <th>width</th>\n",
       "      <th>height</th>\n",
       "      <th>bitrate</th>\n",
       "      <th>framerate</th>\n",
       "      <th>i</th>\n",
       "      <th>p</th>\n",
       "      <th>b</th>\n",
       "      <th>...</th>\n",
       "      <th>size</th>\n",
       "      <th>o_codec</th>\n",
       "      <th>o_bitrate</th>\n",
       "      <th>o_framerate</th>\n",
       "      <th>o_width</th>\n",
       "      <th>o_height</th>\n",
       "      <th>umem</th>\n",
       "      <th>utime</th>\n",
       "      <th>pixels</th>\n",
       "      <th>o_pixels</th>\n",
       "    </tr>\n",
       "  </thead>\n",
       "  <tbody>\n",
       "    <tr>\n",
       "      <td>0</td>\n",
       "      <td>04t6-jw9czg</td>\n",
       "      <td>130.35667</td>\n",
       "      <td>mpeg4</td>\n",
       "      <td>176</td>\n",
       "      <td>144</td>\n",
       "      <td>54590</td>\n",
       "      <td>12.0</td>\n",
       "      <td>27</td>\n",
       "      <td>1537</td>\n",
       "      <td>0</td>\n",
       "      <td>...</td>\n",
       "      <td>889537</td>\n",
       "      <td>mpeg4</td>\n",
       "      <td>56000</td>\n",
       "      <td>12.0</td>\n",
       "      <td>176</td>\n",
       "      <td>144</td>\n",
       "      <td>22508</td>\n",
       "      <td>0.612</td>\n",
       "      <td>25344</td>\n",
       "      <td>25344</td>\n",
       "    </tr>\n",
       "    <tr>\n",
       "      <td>1</td>\n",
       "      <td>04t6-jw9czg</td>\n",
       "      <td>130.35667</td>\n",
       "      <td>mpeg4</td>\n",
       "      <td>176</td>\n",
       "      <td>144</td>\n",
       "      <td>54590</td>\n",
       "      <td>12.0</td>\n",
       "      <td>27</td>\n",
       "      <td>1537</td>\n",
       "      <td>0</td>\n",
       "      <td>...</td>\n",
       "      <td>889537</td>\n",
       "      <td>mpeg4</td>\n",
       "      <td>56000</td>\n",
       "      <td>12.0</td>\n",
       "      <td>320</td>\n",
       "      <td>240</td>\n",
       "      <td>25164</td>\n",
       "      <td>0.980</td>\n",
       "      <td>25344</td>\n",
       "      <td>76800</td>\n",
       "    </tr>\n",
       "    <tr>\n",
       "      <td>2</td>\n",
       "      <td>04t6-jw9czg</td>\n",
       "      <td>130.35667</td>\n",
       "      <td>mpeg4</td>\n",
       "      <td>176</td>\n",
       "      <td>144</td>\n",
       "      <td>54590</td>\n",
       "      <td>12.0</td>\n",
       "      <td>27</td>\n",
       "      <td>1537</td>\n",
       "      <td>0</td>\n",
       "      <td>...</td>\n",
       "      <td>889537</td>\n",
       "      <td>mpeg4</td>\n",
       "      <td>56000</td>\n",
       "      <td>12.0</td>\n",
       "      <td>480</td>\n",
       "      <td>360</td>\n",
       "      <td>29228</td>\n",
       "      <td>1.216</td>\n",
       "      <td>25344</td>\n",
       "      <td>172800</td>\n",
       "    </tr>\n",
       "    <tr>\n",
       "      <td>3</td>\n",
       "      <td>04t6-jw9czg</td>\n",
       "      <td>130.35667</td>\n",
       "      <td>mpeg4</td>\n",
       "      <td>176</td>\n",
       "      <td>144</td>\n",
       "      <td>54590</td>\n",
       "      <td>12.0</td>\n",
       "      <td>27</td>\n",
       "      <td>1537</td>\n",
       "      <td>0</td>\n",
       "      <td>...</td>\n",
       "      <td>889537</td>\n",
       "      <td>mpeg4</td>\n",
       "      <td>56000</td>\n",
       "      <td>12.0</td>\n",
       "      <td>640</td>\n",
       "      <td>480</td>\n",
       "      <td>34316</td>\n",
       "      <td>1.692</td>\n",
       "      <td>25344</td>\n",
       "      <td>307200</td>\n",
       "    </tr>\n",
       "    <tr>\n",
       "      <td>4</td>\n",
       "      <td>04t6-jw9czg</td>\n",
       "      <td>130.35667</td>\n",
       "      <td>mpeg4</td>\n",
       "      <td>176</td>\n",
       "      <td>144</td>\n",
       "      <td>54590</td>\n",
       "      <td>12.0</td>\n",
       "      <td>27</td>\n",
       "      <td>1537</td>\n",
       "      <td>0</td>\n",
       "      <td>...</td>\n",
       "      <td>889537</td>\n",
       "      <td>mpeg4</td>\n",
       "      <td>56000</td>\n",
       "      <td>12.0</td>\n",
       "      <td>1280</td>\n",
       "      <td>720</td>\n",
       "      <td>58528</td>\n",
       "      <td>3.456</td>\n",
       "      <td>25344</td>\n",
       "      <td>921600</td>\n",
       "    </tr>\n",
       "  </tbody>\n",
       "</table>\n",
       "<p>5 rows × 24 columns</p>\n",
       "</div>"
      ],
      "text/plain": [
       "            id   duration  codec  width  height  bitrate  framerate   i     p  \\\n",
       "0  04t6-jw9czg  130.35667  mpeg4    176     144    54590       12.0  27  1537   \n",
       "1  04t6-jw9czg  130.35667  mpeg4    176     144    54590       12.0  27  1537   \n",
       "2  04t6-jw9czg  130.35667  mpeg4    176     144    54590       12.0  27  1537   \n",
       "3  04t6-jw9czg  130.35667  mpeg4    176     144    54590       12.0  27  1537   \n",
       "4  04t6-jw9czg  130.35667  mpeg4    176     144    54590       12.0  27  1537   \n",
       "\n",
       "   b  ...    size  o_codec  o_bitrate  o_framerate  o_width o_height   umem  \\\n",
       "0  0  ...  889537    mpeg4      56000         12.0      176      144  22508   \n",
       "1  0  ...  889537    mpeg4      56000         12.0      320      240  25164   \n",
       "2  0  ...  889537    mpeg4      56000         12.0      480      360  29228   \n",
       "3  0  ...  889537    mpeg4      56000         12.0      640      480  34316   \n",
       "4  0  ...  889537    mpeg4      56000         12.0     1280      720  58528   \n",
       "\n",
       "   utime  pixels  o_pixels  \n",
       "0  0.612   25344     25344  \n",
       "1  0.980   25344     76800  \n",
       "2  1.216   25344    172800  \n",
       "3  1.692   25344    307200  \n",
       "4  3.456   25344    921600  \n",
       "\n",
       "[5 rows x 24 columns]"
      ]
     },
     "execution_count": 28,
     "metadata": {},
     "output_type": "execute_result"
    }
   ],
   "source": [
    "data_3['o_pixels'] = data_3['o_width'] * data_3['o_height']\n",
    "data_3.head()"
   ]
  },
  {
   "cell_type": "markdown",
   "metadata": {},
   "source": [
    "## Feature selection - usunięcie zbędnych kolumn\n",
    "- pole id\n",
    "- pole b_size (brak niezerowych wartości)\n",
    "- pole umem (wartość wynikowa, jednak nie podlegająca analizie)"
   ]
  },
  {
   "cell_type": "code",
   "execution_count": 29,
   "metadata": {},
   "outputs": [],
   "source": [
    "data_4 = data_3.copy()"
   ]
  },
  {
   "cell_type": "code",
   "execution_count": 30,
   "metadata": {},
   "outputs": [
    {
     "data": {
      "text/html": [
       "<div>\n",
       "<style scoped>\n",
       "    .dataframe tbody tr th:only-of-type {\n",
       "        vertical-align: middle;\n",
       "    }\n",
       "\n",
       "    .dataframe tbody tr th {\n",
       "        vertical-align: top;\n",
       "    }\n",
       "\n",
       "    .dataframe thead th {\n",
       "        text-align: right;\n",
       "    }\n",
       "</style>\n",
       "<table border=\"1\" class=\"dataframe\">\n",
       "  <thead>\n",
       "    <tr style=\"text-align: right;\">\n",
       "      <th></th>\n",
       "      <th>duration</th>\n",
       "      <th>codec</th>\n",
       "      <th>width</th>\n",
       "      <th>height</th>\n",
       "      <th>bitrate</th>\n",
       "      <th>framerate</th>\n",
       "      <th>i</th>\n",
       "      <th>p</th>\n",
       "      <th>b</th>\n",
       "      <th>frames</th>\n",
       "      <th>...</th>\n",
       "      <th>p_size</th>\n",
       "      <th>size</th>\n",
       "      <th>o_codec</th>\n",
       "      <th>o_bitrate</th>\n",
       "      <th>o_framerate</th>\n",
       "      <th>o_width</th>\n",
       "      <th>o_height</th>\n",
       "      <th>utime</th>\n",
       "      <th>pixels</th>\n",
       "      <th>o_pixels</th>\n",
       "    </tr>\n",
       "  </thead>\n",
       "  <tbody>\n",
       "    <tr>\n",
       "      <td>0</td>\n",
       "      <td>130.35667</td>\n",
       "      <td>mpeg4</td>\n",
       "      <td>176</td>\n",
       "      <td>144</td>\n",
       "      <td>54590</td>\n",
       "      <td>12.0</td>\n",
       "      <td>27</td>\n",
       "      <td>1537</td>\n",
       "      <td>0</td>\n",
       "      <td>1564</td>\n",
       "      <td>...</td>\n",
       "      <td>825054</td>\n",
       "      <td>889537</td>\n",
       "      <td>mpeg4</td>\n",
       "      <td>56000</td>\n",
       "      <td>12.0</td>\n",
       "      <td>176</td>\n",
       "      <td>144</td>\n",
       "      <td>0.612</td>\n",
       "      <td>25344</td>\n",
       "      <td>25344</td>\n",
       "    </tr>\n",
       "    <tr>\n",
       "      <td>1</td>\n",
       "      <td>130.35667</td>\n",
       "      <td>mpeg4</td>\n",
       "      <td>176</td>\n",
       "      <td>144</td>\n",
       "      <td>54590</td>\n",
       "      <td>12.0</td>\n",
       "      <td>27</td>\n",
       "      <td>1537</td>\n",
       "      <td>0</td>\n",
       "      <td>1564</td>\n",
       "      <td>...</td>\n",
       "      <td>825054</td>\n",
       "      <td>889537</td>\n",
       "      <td>mpeg4</td>\n",
       "      <td>56000</td>\n",
       "      <td>12.0</td>\n",
       "      <td>320</td>\n",
       "      <td>240</td>\n",
       "      <td>0.980</td>\n",
       "      <td>25344</td>\n",
       "      <td>76800</td>\n",
       "    </tr>\n",
       "    <tr>\n",
       "      <td>2</td>\n",
       "      <td>130.35667</td>\n",
       "      <td>mpeg4</td>\n",
       "      <td>176</td>\n",
       "      <td>144</td>\n",
       "      <td>54590</td>\n",
       "      <td>12.0</td>\n",
       "      <td>27</td>\n",
       "      <td>1537</td>\n",
       "      <td>0</td>\n",
       "      <td>1564</td>\n",
       "      <td>...</td>\n",
       "      <td>825054</td>\n",
       "      <td>889537</td>\n",
       "      <td>mpeg4</td>\n",
       "      <td>56000</td>\n",
       "      <td>12.0</td>\n",
       "      <td>480</td>\n",
       "      <td>360</td>\n",
       "      <td>1.216</td>\n",
       "      <td>25344</td>\n",
       "      <td>172800</td>\n",
       "    </tr>\n",
       "  </tbody>\n",
       "</table>\n",
       "<p>3 rows × 21 columns</p>\n",
       "</div>"
      ],
      "text/plain": [
       "    duration  codec  width  height  bitrate  framerate   i     p  b  frames  \\\n",
       "0  130.35667  mpeg4    176     144    54590       12.0  27  1537  0    1564   \n",
       "1  130.35667  mpeg4    176     144    54590       12.0  27  1537  0    1564   \n",
       "2  130.35667  mpeg4    176     144    54590       12.0  27  1537  0    1564   \n",
       "\n",
       "   ...  p_size    size  o_codec o_bitrate  o_framerate  o_width  o_height  \\\n",
       "0  ...  825054  889537    mpeg4     56000         12.0      176       144   \n",
       "1  ...  825054  889537    mpeg4     56000         12.0      320       240   \n",
       "2  ...  825054  889537    mpeg4     56000         12.0      480       360   \n",
       "\n",
       "   utime  pixels  o_pixels  \n",
       "0  0.612   25344     25344  \n",
       "1  0.980   25344     76800  \n",
       "2  1.216   25344    172800  \n",
       "\n",
       "[3 rows x 21 columns]"
      ]
     },
     "execution_count": 30,
     "metadata": {},
     "output_type": "execute_result"
    }
   ],
   "source": [
    "data_4 = data_4.drop(['id', 'b_size', 'umem'], axis=1)\n",
    "data_4.head(3)"
   ]
  },
  {
   "cell_type": "markdown",
   "metadata": {},
   "source": [
    "## Data Preparation - przygotowanie danych do uczenia\n",
    "- kodowanie pól kategorycznych\n",
    "- skalowanie danych"
   ]
  },
  {
   "cell_type": "code",
   "execution_count": 31,
   "metadata": {},
   "outputs": [
    {
     "data": {
      "text/html": [
       "<div>\n",
       "<style scoped>\n",
       "    .dataframe tbody tr th:only-of-type {\n",
       "        vertical-align: middle;\n",
       "    }\n",
       "\n",
       "    .dataframe tbody tr th {\n",
       "        vertical-align: top;\n",
       "    }\n",
       "\n",
       "    .dataframe thead th {\n",
       "        text-align: right;\n",
       "    }\n",
       "</style>\n",
       "<table border=\"1\" class=\"dataframe\">\n",
       "  <thead>\n",
       "    <tr style=\"text-align: right;\">\n",
       "      <th></th>\n",
       "      <th>duration</th>\n",
       "      <th>codec</th>\n",
       "      <th>width</th>\n",
       "      <th>height</th>\n",
       "      <th>bitrate</th>\n",
       "      <th>framerate</th>\n",
       "      <th>i</th>\n",
       "      <th>p</th>\n",
       "      <th>b</th>\n",
       "      <th>frames</th>\n",
       "      <th>...</th>\n",
       "      <th>p_size</th>\n",
       "      <th>size</th>\n",
       "      <th>o_codec</th>\n",
       "      <th>o_bitrate</th>\n",
       "      <th>o_framerate</th>\n",
       "      <th>o_width</th>\n",
       "      <th>o_height</th>\n",
       "      <th>utime</th>\n",
       "      <th>pixels</th>\n",
       "      <th>o_pixels</th>\n",
       "    </tr>\n",
       "  </thead>\n",
       "  <tbody>\n",
       "    <tr>\n",
       "      <td>0</td>\n",
       "      <td>130.35667</td>\n",
       "      <td>mpeg4</td>\n",
       "      <td>176</td>\n",
       "      <td>144</td>\n",
       "      <td>54590</td>\n",
       "      <td>12.0</td>\n",
       "      <td>27</td>\n",
       "      <td>1537</td>\n",
       "      <td>0</td>\n",
       "      <td>1564</td>\n",
       "      <td>...</td>\n",
       "      <td>825054</td>\n",
       "      <td>889537</td>\n",
       "      <td>mpeg4</td>\n",
       "      <td>56000</td>\n",
       "      <td>12.0</td>\n",
       "      <td>176</td>\n",
       "      <td>144</td>\n",
       "      <td>0.612</td>\n",
       "      <td>25344</td>\n",
       "      <td>25344</td>\n",
       "    </tr>\n",
       "    <tr>\n",
       "      <td>1</td>\n",
       "      <td>130.35667</td>\n",
       "      <td>mpeg4</td>\n",
       "      <td>176</td>\n",
       "      <td>144</td>\n",
       "      <td>54590</td>\n",
       "      <td>12.0</td>\n",
       "      <td>27</td>\n",
       "      <td>1537</td>\n",
       "      <td>0</td>\n",
       "      <td>1564</td>\n",
       "      <td>...</td>\n",
       "      <td>825054</td>\n",
       "      <td>889537</td>\n",
       "      <td>mpeg4</td>\n",
       "      <td>56000</td>\n",
       "      <td>12.0</td>\n",
       "      <td>320</td>\n",
       "      <td>240</td>\n",
       "      <td>0.980</td>\n",
       "      <td>25344</td>\n",
       "      <td>76800</td>\n",
       "    </tr>\n",
       "    <tr>\n",
       "      <td>2</td>\n",
       "      <td>130.35667</td>\n",
       "      <td>mpeg4</td>\n",
       "      <td>176</td>\n",
       "      <td>144</td>\n",
       "      <td>54590</td>\n",
       "      <td>12.0</td>\n",
       "      <td>27</td>\n",
       "      <td>1537</td>\n",
       "      <td>0</td>\n",
       "      <td>1564</td>\n",
       "      <td>...</td>\n",
       "      <td>825054</td>\n",
       "      <td>889537</td>\n",
       "      <td>mpeg4</td>\n",
       "      <td>56000</td>\n",
       "      <td>12.0</td>\n",
       "      <td>480</td>\n",
       "      <td>360</td>\n",
       "      <td>1.216</td>\n",
       "      <td>25344</td>\n",
       "      <td>172800</td>\n",
       "    </tr>\n",
       "    <tr>\n",
       "      <td>3</td>\n",
       "      <td>130.35667</td>\n",
       "      <td>mpeg4</td>\n",
       "      <td>176</td>\n",
       "      <td>144</td>\n",
       "      <td>54590</td>\n",
       "      <td>12.0</td>\n",
       "      <td>27</td>\n",
       "      <td>1537</td>\n",
       "      <td>0</td>\n",
       "      <td>1564</td>\n",
       "      <td>...</td>\n",
       "      <td>825054</td>\n",
       "      <td>889537</td>\n",
       "      <td>mpeg4</td>\n",
       "      <td>56000</td>\n",
       "      <td>12.0</td>\n",
       "      <td>640</td>\n",
       "      <td>480</td>\n",
       "      <td>1.692</td>\n",
       "      <td>25344</td>\n",
       "      <td>307200</td>\n",
       "    </tr>\n",
       "    <tr>\n",
       "      <td>4</td>\n",
       "      <td>130.35667</td>\n",
       "      <td>mpeg4</td>\n",
       "      <td>176</td>\n",
       "      <td>144</td>\n",
       "      <td>54590</td>\n",
       "      <td>12.0</td>\n",
       "      <td>27</td>\n",
       "      <td>1537</td>\n",
       "      <td>0</td>\n",
       "      <td>1564</td>\n",
       "      <td>...</td>\n",
       "      <td>825054</td>\n",
       "      <td>889537</td>\n",
       "      <td>mpeg4</td>\n",
       "      <td>56000</td>\n",
       "      <td>12.0</td>\n",
       "      <td>1280</td>\n",
       "      <td>720</td>\n",
       "      <td>3.456</td>\n",
       "      <td>25344</td>\n",
       "      <td>921600</td>\n",
       "    </tr>\n",
       "  </tbody>\n",
       "</table>\n",
       "<p>5 rows × 21 columns</p>\n",
       "</div>"
      ],
      "text/plain": [
       "    duration  codec  width  height  bitrate  framerate   i     p  b  frames  \\\n",
       "0  130.35667  mpeg4    176     144    54590       12.0  27  1537  0    1564   \n",
       "1  130.35667  mpeg4    176     144    54590       12.0  27  1537  0    1564   \n",
       "2  130.35667  mpeg4    176     144    54590       12.0  27  1537  0    1564   \n",
       "3  130.35667  mpeg4    176     144    54590       12.0  27  1537  0    1564   \n",
       "4  130.35667  mpeg4    176     144    54590       12.0  27  1537  0    1564   \n",
       "\n",
       "   ...  p_size    size  o_codec o_bitrate  o_framerate  o_width  o_height  \\\n",
       "0  ...  825054  889537    mpeg4     56000         12.0      176       144   \n",
       "1  ...  825054  889537    mpeg4     56000         12.0      320       240   \n",
       "2  ...  825054  889537    mpeg4     56000         12.0      480       360   \n",
       "3  ...  825054  889537    mpeg4     56000         12.0      640       480   \n",
       "4  ...  825054  889537    mpeg4     56000         12.0     1280       720   \n",
       "\n",
       "   utime  pixels  o_pixels  \n",
       "0  0.612   25344     25344  \n",
       "1  0.980   25344     76800  \n",
       "2  1.216   25344    172800  \n",
       "3  1.692   25344    307200  \n",
       "4  3.456   25344    921600  \n",
       "\n",
       "[5 rows x 21 columns]"
      ]
     },
     "execution_count": 31,
     "metadata": {},
     "output_type": "execute_result"
    }
   ],
   "source": [
    "data_5 = data_4.copy()\n",
    "data_5.head()"
   ]
  },
  {
   "cell_type": "code",
   "execution_count": 32,
   "metadata": {},
   "outputs": [
    {
     "name": "stdout",
     "output_type": "stream",
     "text": [
      "codec\n",
      "['mpeg4' 'h264' 'vp8' 'flv']\n",
      "o_codec\n",
      "['mpeg4' 'vp8' 'flv' 'h264']\n"
     ]
    }
   ],
   "source": [
    "categorical_cols = ['codec', 'o_codec']\n",
    "for column in categorical_cols:\n",
    "  print(column)\n",
    "  print(data_5[column].unique())"
   ]
  },
  {
   "cell_type": "code",
   "execution_count": 33,
   "metadata": {},
   "outputs": [
    {
     "data": {
      "text/html": [
       "<div>\n",
       "<style scoped>\n",
       "    .dataframe tbody tr th:only-of-type {\n",
       "        vertical-align: middle;\n",
       "    }\n",
       "\n",
       "    .dataframe tbody tr th {\n",
       "        vertical-align: top;\n",
       "    }\n",
       "\n",
       "    .dataframe thead th {\n",
       "        text-align: right;\n",
       "    }\n",
       "</style>\n",
       "<table border=\"1\" class=\"dataframe\">\n",
       "  <thead>\n",
       "    <tr style=\"text-align: right;\">\n",
       "      <th></th>\n",
       "      <th>duration</th>\n",
       "      <th>codec_mpeg4</th>\n",
       "      <th>codec_h264</th>\n",
       "      <th>codec_vp8</th>\n",
       "      <th>codec_flv</th>\n",
       "      <th>width</th>\n",
       "      <th>height</th>\n",
       "      <th>bitrate</th>\n",
       "      <th>framerate</th>\n",
       "      <th>i</th>\n",
       "      <th>...</th>\n",
       "      <th>o_codec_vp8</th>\n",
       "      <th>o_codec_flv</th>\n",
       "      <th>o_codec_h264</th>\n",
       "      <th>o_bitrate</th>\n",
       "      <th>o_framerate</th>\n",
       "      <th>o_width</th>\n",
       "      <th>o_height</th>\n",
       "      <th>utime</th>\n",
       "      <th>pixels</th>\n",
       "      <th>o_pixels</th>\n",
       "    </tr>\n",
       "  </thead>\n",
       "  <tbody>\n",
       "    <tr>\n",
       "      <td>0</td>\n",
       "      <td>130.35667</td>\n",
       "      <td>1</td>\n",
       "      <td>0</td>\n",
       "      <td>0</td>\n",
       "      <td>0</td>\n",
       "      <td>176</td>\n",
       "      <td>144</td>\n",
       "      <td>54590</td>\n",
       "      <td>12.0</td>\n",
       "      <td>27</td>\n",
       "      <td>...</td>\n",
       "      <td>0</td>\n",
       "      <td>0</td>\n",
       "      <td>0</td>\n",
       "      <td>56000</td>\n",
       "      <td>12.0</td>\n",
       "      <td>176</td>\n",
       "      <td>144</td>\n",
       "      <td>0.612</td>\n",
       "      <td>25344</td>\n",
       "      <td>25344</td>\n",
       "    </tr>\n",
       "    <tr>\n",
       "      <td>1</td>\n",
       "      <td>130.35667</td>\n",
       "      <td>1</td>\n",
       "      <td>0</td>\n",
       "      <td>0</td>\n",
       "      <td>0</td>\n",
       "      <td>176</td>\n",
       "      <td>144</td>\n",
       "      <td>54590</td>\n",
       "      <td>12.0</td>\n",
       "      <td>27</td>\n",
       "      <td>...</td>\n",
       "      <td>0</td>\n",
       "      <td>0</td>\n",
       "      <td>0</td>\n",
       "      <td>56000</td>\n",
       "      <td>12.0</td>\n",
       "      <td>320</td>\n",
       "      <td>240</td>\n",
       "      <td>0.980</td>\n",
       "      <td>25344</td>\n",
       "      <td>76800</td>\n",
       "    </tr>\n",
       "    <tr>\n",
       "      <td>2</td>\n",
       "      <td>130.35667</td>\n",
       "      <td>1</td>\n",
       "      <td>0</td>\n",
       "      <td>0</td>\n",
       "      <td>0</td>\n",
       "      <td>176</td>\n",
       "      <td>144</td>\n",
       "      <td>54590</td>\n",
       "      <td>12.0</td>\n",
       "      <td>27</td>\n",
       "      <td>...</td>\n",
       "      <td>0</td>\n",
       "      <td>0</td>\n",
       "      <td>0</td>\n",
       "      <td>56000</td>\n",
       "      <td>12.0</td>\n",
       "      <td>480</td>\n",
       "      <td>360</td>\n",
       "      <td>1.216</td>\n",
       "      <td>25344</td>\n",
       "      <td>172800</td>\n",
       "    </tr>\n",
       "    <tr>\n",
       "      <td>3</td>\n",
       "      <td>130.35667</td>\n",
       "      <td>1</td>\n",
       "      <td>0</td>\n",
       "      <td>0</td>\n",
       "      <td>0</td>\n",
       "      <td>176</td>\n",
       "      <td>144</td>\n",
       "      <td>54590</td>\n",
       "      <td>12.0</td>\n",
       "      <td>27</td>\n",
       "      <td>...</td>\n",
       "      <td>0</td>\n",
       "      <td>0</td>\n",
       "      <td>0</td>\n",
       "      <td>56000</td>\n",
       "      <td>12.0</td>\n",
       "      <td>640</td>\n",
       "      <td>480</td>\n",
       "      <td>1.692</td>\n",
       "      <td>25344</td>\n",
       "      <td>307200</td>\n",
       "    </tr>\n",
       "    <tr>\n",
       "      <td>4</td>\n",
       "      <td>130.35667</td>\n",
       "      <td>1</td>\n",
       "      <td>0</td>\n",
       "      <td>0</td>\n",
       "      <td>0</td>\n",
       "      <td>176</td>\n",
       "      <td>144</td>\n",
       "      <td>54590</td>\n",
       "      <td>12.0</td>\n",
       "      <td>27</td>\n",
       "      <td>...</td>\n",
       "      <td>0</td>\n",
       "      <td>0</td>\n",
       "      <td>0</td>\n",
       "      <td>56000</td>\n",
       "      <td>12.0</td>\n",
       "      <td>1280</td>\n",
       "      <td>720</td>\n",
       "      <td>3.456</td>\n",
       "      <td>25344</td>\n",
       "      <td>921600</td>\n",
       "    </tr>\n",
       "  </tbody>\n",
       "</table>\n",
       "<p>5 rows × 27 columns</p>\n",
       "</div>"
      ],
      "text/plain": [
       "    duration  codec_mpeg4  codec_h264  codec_vp8  codec_flv  width  height  \\\n",
       "0  130.35667            1           0          0          0    176     144   \n",
       "1  130.35667            1           0          0          0    176     144   \n",
       "2  130.35667            1           0          0          0    176     144   \n",
       "3  130.35667            1           0          0          0    176     144   \n",
       "4  130.35667            1           0          0          0    176     144   \n",
       "\n",
       "   bitrate  framerate   i  ...  o_codec_vp8  o_codec_flv  o_codec_h264  \\\n",
       "0    54590       12.0  27  ...            0            0             0   \n",
       "1    54590       12.0  27  ...            0            0             0   \n",
       "2    54590       12.0  27  ...            0            0             0   \n",
       "3    54590       12.0  27  ...            0            0             0   \n",
       "4    54590       12.0  27  ...            0            0             0   \n",
       "\n",
       "   o_bitrate  o_framerate  o_width  o_height  utime  pixels  o_pixels  \n",
       "0      56000         12.0      176       144  0.612   25344     25344  \n",
       "1      56000         12.0      320       240  0.980   25344     76800  \n",
       "2      56000         12.0      480       360  1.216   25344    172800  \n",
       "3      56000         12.0      640       480  1.692   25344    307200  \n",
       "4      56000         12.0     1280       720  3.456   25344    921600  \n",
       "\n",
       "[5 rows x 27 columns]"
      ]
     },
     "execution_count": 33,
     "metadata": {},
     "output_type": "execute_result"
    }
   ],
   "source": [
    "ohe = ce.OneHotEncoder(cols=categorical_cols, return_df=True, \n",
    "        use_cat_names=True, handle_unknown=0)\n",
    "data_5 = ohe.fit_transform(data_5)\n",
    "data_5.head()"
   ]
  },
  {
   "cell_type": "code",
   "execution_count": 34,
   "metadata": {},
   "outputs": [
    {
     "name": "stdout",
     "output_type": "stream",
     "text": [
      "<class 'pandas.core.frame.DataFrame'>\n",
      "Int64Index: 68759 entries, 0 to 68783\n",
      "Data columns (total 27 columns):\n",
      "duration         68759 non-null float64\n",
      "codec_mpeg4      68759 non-null int64\n",
      "codec_h264       68759 non-null int64\n",
      "codec_vp8        68759 non-null int64\n",
      "codec_flv        68759 non-null int64\n",
      "width            68759 non-null int64\n",
      "height           68759 non-null int64\n",
      "bitrate          68759 non-null int64\n",
      "framerate        68759 non-null float64\n",
      "i                68759 non-null int64\n",
      "p                68759 non-null int64\n",
      "b                68759 non-null int64\n",
      "frames           68759 non-null int64\n",
      "i_size           68759 non-null int64\n",
      "p_size           68759 non-null int64\n",
      "size             68759 non-null int64\n",
      "o_codec_mpeg4    68759 non-null int64\n",
      "o_codec_vp8      68759 non-null int64\n",
      "o_codec_flv      68759 non-null int64\n",
      "o_codec_h264     68759 non-null int64\n",
      "o_bitrate        68759 non-null int64\n",
      "o_framerate      68759 non-null float64\n",
      "o_width          68759 non-null int64\n",
      "o_height         68759 non-null int64\n",
      "utime            68759 non-null float64\n",
      "pixels           68759 non-null int64\n",
      "o_pixels         68759 non-null int64\n",
      "dtypes: float64(4), int64(23)\n",
      "memory usage: 14.7 MB\n"
     ]
    }
   ],
   "source": [
    "data_5.info() # teraz wszystkie pola są numeryczne"
   ]
  },
  {
   "cell_type": "markdown",
   "metadata": {},
   "source": [
    "### Podział na 'target' i 'features'"
   ]
  },
  {
   "cell_type": "code",
   "execution_count": 35,
   "metadata": {},
   "outputs": [],
   "source": [
    "target = data_5['utime']\n",
    "features = data_5.drop('utime', axis=1)"
   ]
  },
  {
   "cell_type": "code",
   "execution_count": 36,
   "metadata": {},
   "outputs": [
    {
     "name": "stdout",
     "output_type": "stream",
     "text": [
      "(68759, 26)\n"
     ]
    },
    {
     "data": {
      "text/html": [
       "<div>\n",
       "<style scoped>\n",
       "    .dataframe tbody tr th:only-of-type {\n",
       "        vertical-align: middle;\n",
       "    }\n",
       "\n",
       "    .dataframe tbody tr th {\n",
       "        vertical-align: top;\n",
       "    }\n",
       "\n",
       "    .dataframe thead th {\n",
       "        text-align: right;\n",
       "    }\n",
       "</style>\n",
       "<table border=\"1\" class=\"dataframe\">\n",
       "  <thead>\n",
       "    <tr style=\"text-align: right;\">\n",
       "      <th></th>\n",
       "      <th>duration</th>\n",
       "      <th>codec_mpeg4</th>\n",
       "      <th>codec_h264</th>\n",
       "      <th>codec_vp8</th>\n",
       "      <th>codec_flv</th>\n",
       "      <th>width</th>\n",
       "      <th>height</th>\n",
       "      <th>bitrate</th>\n",
       "      <th>framerate</th>\n",
       "      <th>i</th>\n",
       "      <th>...</th>\n",
       "      <th>o_codec_mpeg4</th>\n",
       "      <th>o_codec_vp8</th>\n",
       "      <th>o_codec_flv</th>\n",
       "      <th>o_codec_h264</th>\n",
       "      <th>o_bitrate</th>\n",
       "      <th>o_framerate</th>\n",
       "      <th>o_width</th>\n",
       "      <th>o_height</th>\n",
       "      <th>pixels</th>\n",
       "      <th>o_pixels</th>\n",
       "    </tr>\n",
       "  </thead>\n",
       "  <tbody>\n",
       "    <tr>\n",
       "      <td>0</td>\n",
       "      <td>130.35667</td>\n",
       "      <td>1</td>\n",
       "      <td>0</td>\n",
       "      <td>0</td>\n",
       "      <td>0</td>\n",
       "      <td>176</td>\n",
       "      <td>144</td>\n",
       "      <td>54590</td>\n",
       "      <td>12.0</td>\n",
       "      <td>27</td>\n",
       "      <td>...</td>\n",
       "      <td>1</td>\n",
       "      <td>0</td>\n",
       "      <td>0</td>\n",
       "      <td>0</td>\n",
       "      <td>56000</td>\n",
       "      <td>12.0</td>\n",
       "      <td>176</td>\n",
       "      <td>144</td>\n",
       "      <td>25344</td>\n",
       "      <td>25344</td>\n",
       "    </tr>\n",
       "    <tr>\n",
       "      <td>1</td>\n",
       "      <td>130.35667</td>\n",
       "      <td>1</td>\n",
       "      <td>0</td>\n",
       "      <td>0</td>\n",
       "      <td>0</td>\n",
       "      <td>176</td>\n",
       "      <td>144</td>\n",
       "      <td>54590</td>\n",
       "      <td>12.0</td>\n",
       "      <td>27</td>\n",
       "      <td>...</td>\n",
       "      <td>1</td>\n",
       "      <td>0</td>\n",
       "      <td>0</td>\n",
       "      <td>0</td>\n",
       "      <td>56000</td>\n",
       "      <td>12.0</td>\n",
       "      <td>320</td>\n",
       "      <td>240</td>\n",
       "      <td>25344</td>\n",
       "      <td>76800</td>\n",
       "    </tr>\n",
       "  </tbody>\n",
       "</table>\n",
       "<p>2 rows × 26 columns</p>\n",
       "</div>"
      ],
      "text/plain": [
       "    duration  codec_mpeg4  codec_h264  codec_vp8  codec_flv  width  height  \\\n",
       "0  130.35667            1           0          0          0    176     144   \n",
       "1  130.35667            1           0          0          0    176     144   \n",
       "\n",
       "   bitrate  framerate   i  ...  o_codec_mpeg4  o_codec_vp8  o_codec_flv  \\\n",
       "0    54590       12.0  27  ...              1            0            0   \n",
       "1    54590       12.0  27  ...              1            0            0   \n",
       "\n",
       "   o_codec_h264  o_bitrate  o_framerate  o_width  o_height  pixels  o_pixels  \n",
       "0             0      56000         12.0      176       144   25344     25344  \n",
       "1             0      56000         12.0      320       240   25344     76800  \n",
       "\n",
       "[2 rows x 26 columns]"
      ]
     },
     "execution_count": 36,
     "metadata": {},
     "output_type": "execute_result"
    }
   ],
   "source": [
    "print(features.shape)\n",
    "features.head(2)"
   ]
  },
  {
   "cell_type": "code",
   "execution_count": 37,
   "metadata": {},
   "outputs": [
    {
     "name": "stdout",
     "output_type": "stream",
     "text": [
      "(68759,)\n"
     ]
    },
    {
     "data": {
      "text/plain": [
       "0    0.612\n",
       "1    0.980\n",
       "Name: utime, dtype: float64"
      ]
     },
     "execution_count": 37,
     "metadata": {},
     "output_type": "execute_result"
    }
   ],
   "source": [
    "print(target.shape)\n",
    "target.head(2)"
   ]
  },
  {
   "cell_type": "markdown",
   "metadata": {},
   "source": [
    "### Skalowanie danych"
   ]
  },
  {
   "cell_type": "code",
   "execution_count": 38,
   "metadata": {},
   "outputs": [
    {
     "data": {
      "text/plain": [
       "array([5.71257598e-02, 1.00000000e+00, 0.00000000e+00, 0.00000000e+00,\n",
       "       0.00000000e+00, 0.00000000e+00, 0.00000000e+00, 6.06371427e-03,\n",
       "       1.48820418e-01, 1.00959112e-02, 3.96760662e-02, 0.00000000e+00,\n",
       "       3.96738187e-02, 5.81774952e-04, 1.02892969e-03, 8.65023435e-04,\n",
       "       1.00000000e+00, 0.00000000e+00, 0.00000000e+00, 0.00000000e+00,\n",
       "       0.00000000e+00, 0.00000000e+00, 8.25688073e-02, 1.02564103e-01,\n",
       "       0.00000000e+00, 2.51218598e-02])"
      ]
     },
     "execution_count": 38,
     "metadata": {},
     "output_type": "execute_result"
    }
   ],
   "source": [
    "from sklearn.preprocessing import MinMaxScaler\n",
    "\n",
    "scaler = MinMaxScaler()\n",
    "features_scaled = scaler.fit_transform(features)\n",
    "features_scaled[1]"
   ]
  },
  {
   "cell_type": "code",
   "execution_count": 39,
   "metadata": {},
   "outputs": [
    {
     "data": {
      "text/plain": [
       "(68759, 26)"
      ]
     },
     "execution_count": 39,
     "metadata": {},
     "output_type": "execute_result"
    }
   ],
   "source": [
    "features_scaled.shape"
   ]
  },
  {
   "cell_type": "markdown",
   "metadata": {},
   "source": [
    "## Trenowanie modeli"
   ]
  },
  {
   "cell_type": "code",
   "execution_count": 40,
   "metadata": {},
   "outputs": [],
   "source": [
    "from sklearn.linear_model import LinearRegression\n",
    "from sklearn.metrics import mean_squared_error\n",
    "from sklearn.model_selection import StratifiedKFold\n",
    "from sklearn.metrics import mean_squared_error\n",
    "from sklearn.model_selection import train_test_split\n",
    "from sklearn.preprocessing import PolynomialFeatures\n",
    "from sklearn.linear_model import ElasticNet\n",
    "from sklearn.model_selection import GridSearchCV"
   ]
  },
  {
   "cell_type": "markdown",
   "metadata": {},
   "source": [
    "### Podział na dane trenujące i testujące"
   ]
  },
  {
   "cell_type": "code",
   "execution_count": 41,
   "metadata": {},
   "outputs": [],
   "source": [
    "X_train, X_test, y_train, y_test = train_test_split(features_scaled, \n",
    "                                                    target, \n",
    "                                                    test_size=0.3, random_state=0)"
   ]
  },
  {
   "cell_type": "markdown",
   "metadata": {},
   "source": [
    "### Podstawowy model regresji liniowej"
   ]
  },
  {
   "cell_type": "code",
   "execution_count": 42,
   "metadata": {},
   "outputs": [
    {
     "name": "stdout",
     "output_type": "stream",
     "text": [
      "Mean squared error of a linear model: 124.55\n",
      "Linear Regression R2 score: 0.53\n"
     ]
    }
   ],
   "source": [
    "lr = LinearRegression()\n",
    "lr.fit(X_train, y_train)\n",
    "\n",
    "print(\"Mean squared error of a linear model: %.2f\" % \n",
    "      mean_squared_error(y_test, lr.predict(X_test)))\n",
    "score = lr.score(X_test, y_test) #r2_score\n",
    "print(\"Linear Regression R2 score: %.2f\" % score)"
   ]
  },
  {
   "cell_type": "markdown",
   "metadata": {},
   "source": [
    "### Wyszukiwanie optymalnego modelu z wykorzystaniem Polynominal Features, ElasticNet oraz GridSearch"
   ]
  },
  {
   "cell_type": "code",
   "execution_count": 43,
   "metadata": {},
   "outputs": [
    {
     "name": "stdout",
     "output_type": "stream",
     "text": [
      "polynominal features level 1:\n",
      "  ElasticNet(alpha=0.1, copy_X=True, fit_intercept=True, l1_ratio=0.9,\n",
      "           max_iter=1000, normalize=False, positive=False, precompute=False,\n",
      "           random_state=None, selection='cyclic', tol=0.0001, warm_start=False)\n",
      "    Mean squared error: 127.97\n",
      "    R2 score: 0.52\n",
      "polynominal features level 2:\n",
      "  ElasticNet(alpha=0.1, copy_X=True, fit_intercept=True, l1_ratio=0.9,\n",
      "           max_iter=1000, normalize=False, positive=False, precompute=False,\n",
      "           random_state=None, selection='cyclic', tol=0.0001, warm_start=False)\n",
      "    Mean squared error: 57.47\n",
      "    R2 score: 0.78\n"
     ]
    }
   ],
   "source": [
    "parameters=[{\n",
    "     'alpha':[0.1, 0.2, 0.5, 0.9], \n",
    "     'l1_ratio':[0.1, 0.2, 0.5, 0.9],\n",
    "     }\n",
    "]\n",
    " \n",
    "for pf_level in range(1,3):\n",
    "    print(f\"polynominal features level {pf_level}:\")\n",
    "\n",
    "    pf = PolynomialFeatures(pf_level)\n",
    "    train_poly = pf.fit_transform(X_train)\n",
    "    test_poly  = pf.fit_transform(X_test)\n",
    "    \n",
    "    model = GridSearchCV( ElasticNet(), parameters, cv=5 )\n",
    "    model.fit(train_poly, y_train)\n",
    "\n",
    "    print(f\"  {model.best_estimator_}\")\n",
    "    print(\"    Mean squared error: %.2f\" % \n",
    "    mean_squared_error(y_test, model.predict(test_poly)))\n",
    "    score = model.score(test_poly, y_test) #r2_score\n",
    "    print(\"    R2 score: %.2f\" % score)"
   ]
  }
 ],
 "metadata": {
  "file_extension": ".py",
  "kernelspec": {
   "display_name": "Python 3.7.4 64-bit ('base': conda)",
   "language": "python",
   "name": "python37464bitbasecondae367d34a030340049e5b6c83f7ebeac8"
  },
  "language_info": {
   "codemirror_mode": {
    "name": "ipython",
    "version": 3
   },
   "file_extension": ".py",
   "mimetype": "text/x-python",
   "name": "python",
   "nbconvert_exporter": "python",
   "pygments_lexer": "ipython3",
   "version": "3.7.4"
  },
  "mimetype": "text/x-python",
  "name": "python",
  "npconvert_exporter": "python",
  "pygments_lexer": "ipython3",
  "version": 3
 },
 "nbformat": 4,
 "nbformat_minor": 2
}
